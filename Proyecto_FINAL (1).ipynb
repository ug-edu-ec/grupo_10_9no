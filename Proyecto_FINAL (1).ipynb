{
  "nbformat": 4,
  "nbformat_minor": 0,
  "metadata": {
    "colab": {
      "provenance": [],
      "collapsed_sections": [
        "VTL-_tpifek0",
        "n4On96LakcOB"
      ]
    },
    "kernelspec": {
      "name": "python3",
      "display_name": "Python 3"
    },
    "language_info": {
      "name": "python"
    }
  },
  "cells": [
    {
      "cell_type": "markdown",
      "source": [
        "# **Grupo 10 **\n",
        "\n",
        "\n",
        "*   DESSIREE ELIZALDE REINOSO\n",
        "*   STEVEN CIRINO GARCIA \n",
        "\n",
        "\n",
        "\n"
      ],
      "metadata": {
        "id": "QZOFmWSLXmSI"
      }
    },
    {
      "cell_type": "markdown",
      "source": [
        "\n",
        "Proyecto Final Inteligencia Artificial"
      ],
      "metadata": {
        "id": "RJjG3DCZYac6"
      }
    },
    {
      "cell_type": "code",
      "execution_count": null,
      "metadata": {
        "id": "DQW5Cx8OYYf8"
      },
      "outputs": [],
      "source": [
        "import pandas as pd\n",
        "import matplotlib.pyplot as plt\n",
        "%matplotlib inline\n",
        "import numpy as np\n",
        "import seaborn as sns\n",
        "import torch \n",
        "import torch.nn as nn\n",
        "import torch.nn.functional as F\n",
        "from sklearn.preprocessing import StandardScaler\n",
        "from sklearn.model_selection import train_test_split\n",
        "from sklearn.linear_model import LinearRegression\n",
        "from sklearn.preprocessing import StandardScaler\n",
        "from torch.utils.data import Dataset, DataLoader\n",
        "from sklearn import linear_model\n",
        "from sklearn.metrics import mean_squared_error, r2_score\n",
        "from sklearn.metrics import classification_report"
      ]
    },
    {
      "cell_type": "code",
      "source": [
        "from google.colab import drive\n",
        "drive.mount('/content/drive')"
      ],
      "metadata": {
        "colab": {
          "base_uri": "https://localhost:8080/"
        },
        "id": "7Sd5Mm8zZHIt",
        "outputId": "fa78bee5-5c76-4b41-ac26-5f7cba7799bb"
      },
      "execution_count": null,
      "outputs": [
        {
          "output_type": "stream",
          "name": "stdout",
          "text": [
            "Mounted at /content/drive\n"
          ]
        }
      ]
    },
    {
      "cell_type": "code",
      "source": [
        "comercio = pd.read_csv(\"/content/drive/MyDrive/datasets/indicadores.csv\", index_col=0)\n",
        "comercio.head(10)"
      ],
      "metadata": {
        "colab": {
          "base_uri": "https://localhost:8080/",
          "height": 1000
        },
        "id": "XhTzi8RBZImA",
        "outputId": "05a635f8-18df-47c9-ed53-a1aa045463f3"
      },
      "execution_count": null,
      "outputs": [
        {
          "output_type": "execute_result",
          "data": {
            "text/plain": [
              "      EXPEDIENTE                                    NOMBRE RAMA  \\\n",
              "AÑO                                                               \n",
              "2018           1  ACEITES TROPICALES SOCIEDAD ANONIMA ATSA    A   \n",
              "2018         258      COMPANIA ECUATORIANA DEL TE CA CETCA    A   \n",
              "2018         554      FURUKAWA PLANTACIONES CA DEL ECUADOR    A   \n",
              "2018         620               INCUBADORA NACIONAL CA INCA    A   \n",
              "2018         762                          LA VINA CIA LTDA    A   \n",
              "2018        1278          CULTIVO DE EXPORTACION SA CULTEX    A   \n",
              "2018        1324                         TEXTILES TEXSA SA    A   \n",
              "2018        1342         PIRETRO LATINOAMERICANO CA PIRELA    A   \n",
              "2018        1457                                 KENNET CA    A   \n",
              "2018        1528                              MURRIN CORP.    A   \n",
              "\n",
              "                                     DESCRIPCIÓN RAMA RAMA 6 DÍGITOS  \\\n",
              "AÑO                                                                    \n",
              "2018  AGRICULTURA, GANADERÃA,  SILVICULTURA Y PESCA.       A0126.01   \n",
              "2018  AGRICULTURA, GANADERÃA,  SILVICULTURA Y PESCA.       A0127.09   \n",
              "2018  AGRICULTURA, GANADERÃA,  SILVICULTURA Y PESCA.       A0116.05   \n",
              "2018  AGRICULTURA, GANADERÃA,  SILVICULTURA Y PESCA.       A0146.01   \n",
              "2018  AGRICULTURA, GANADERÃA,  SILVICULTURA Y PESCA.       A0119.03   \n",
              "2018  AGRICULTURA, GANADERÃA,  SILVICULTURA Y PESCA.       A0220.01   \n",
              "2018  AGRICULTURA, GANADERÃA,  SILVICULTURA Y PESCA.       A0116.05   \n",
              "2018  AGRICULTURA, GANADERÃA,  SILVICULTURA Y PESCA.       A0128.03   \n",
              "2018  AGRICULTURA, GANADERÃA,  SILVICULTURA Y PESCA.       A0113.91   \n",
              "2018  AGRICULTURA, GANADERÃA,  SILVICULTURA Y PESCA.       A0111.39   \n",
              "\n",
              "     SUBRAMA 2 DÍGITOS  LIQUIDEZ CORRIENTE  PRUEBA ÁCIDA  \\\n",
              "AÑO                                                        \n",
              "2018               A01            2.481571      2.271701   \n",
              "2018               A01            2.032407      1.179090   \n",
              "2018               A01            6.824870      5.269937   \n",
              "2018               A01            3.048584      2.825042   \n",
              "2018               A01           22.065985     22.065985   \n",
              "2018               A02            2.427063      2.366631   \n",
              "2018               A01           29.480400     21.873486   \n",
              "2018               A01            1.417834      1.268602   \n",
              "2018               A01            0.899910      0.521510   \n",
              "2018               A01            0.201738      0.080146   \n",
              "\n",
              "      ENDEUDAMIENTO DEL ACTIVO  ENDEUDAMIENTO PATRIMONIAL  ...  \\\n",
              "AÑO                                                        ...   \n",
              "2018                  0.031753                   0.032794  ...   \n",
              "2018                  0.581443                   1.389159  ...   \n",
              "2018                  0.078561                   0.085259  ...   \n",
              "2018                  0.208384                   0.263239  ...   \n",
              "2018                  0.002078                   0.002082  ...   \n",
              "2018                  0.530710                   1.130880  ...   \n",
              "2018                  0.079278                   0.086104  ...   \n",
              "2018                  0.474701                   0.903676  ...   \n",
              "2018                  0.723003                   2.610153  ...   \n",
              "2018                  0.671532                   2.044439  ...   \n",
              "\n",
              "      IMPACTO DE LA CARGA FINANCIERA  RENTABILIDAD NETA DEL ACTIVO  \\\n",
              "AÑO                                                                  \n",
              "2018                        0.000675                      0.009573   \n",
              "2018                        0.015389                      0.085338   \n",
              "2018                        0.000000                      0.005519   \n",
              "2018                        0.000115                      0.073252   \n",
              "2018                        0.000395                      0.000213   \n",
              "2018                        0.002837                     -0.116038   \n",
              "2018                        0.001388                      0.041565   \n",
              "2018                        0.001230                      0.019440   \n",
              "2018                        0.012339                      0.007473   \n",
              "2018                        0.014145                      0.012664   \n",
              "\n",
              "      MARGEN BRUTO  MARGEN OPERACIONAL  RENTABILIDAD NETA DE VENTAS  \\\n",
              "AÑO                                                                   \n",
              "2018      1.000000            0.726294                     0.089992   \n",
              "2018      0.907621            0.664227                     0.078237   \n",
              "2018      0.443252            0.262013                     0.014401   \n",
              "2018      0.225131            0.154551                     0.028452   \n",
              "2018      0.435921            0.021043                     0.009496   \n",
              "2018      1.000000            0.202044                    -0.363560   \n",
              "2018      0.566126            0.434134                     0.088345   \n",
              "2018      0.961852            0.731271                     0.032078   \n",
              "2018      0.695461            0.472673                     0.008571   \n",
              "2018      0.590474            0.038405                     0.069395   \n",
              "\n",
              "      RENTABILIDAD OPERACIONAL DEL PATRIMONIO  RENTABLIDAD FINANCIERA  \\\n",
              "AÑO                                                                     \n",
              "2018                                 0.079795                0.009887   \n",
              "2018                                 1.730993                0.203887   \n",
              "2018                                 0.108971                0.005989   \n",
              "2018                                 0.502641                0.092535   \n",
              "2018                                 0.000474                0.000214   \n",
              "2018                                 0.137413               -0.247263   \n",
              "2018                                 0.221842                0.045144   \n",
              "2018                                 0.843641                0.037007   \n",
              "2018                                 1.487724                0.026977   \n",
              "2018                                 0.021337                0.038554   \n",
              "\n",
              "      UTILIDAD OPERACIONAL/TOTAL DE ACTIVOS        ROE       ROA  \n",
              "AÑO                                                               \n",
              "2018                                0.077261  0.009887  0.009573  \n",
              "2018                                0.724520  0.203887  0.085338  \n",
              "2018                                0.100410  0.005989  0.005519  \n",
              "2018                                0.397899  0.092535  0.073252  \n",
              "2018                                0.000473  0.000214  0.000213  \n",
              "2018                                0.064487 -0.247263 -0.116038  \n",
              "2018                                0.204255  0.045144  0.041565  \n",
              "2018                                0.443164  0.037007  0.019440  \n",
              "2018                                0.412095  0.026977  0.007473  \n",
              "2018                                0.007008  0.038554  0.012664  \n",
              "\n",
              "[10 rows x 36 columns]"
            ],
            "text/html": [
              "\n",
              "  <div id=\"df-3c436513-c891-4e1c-83de-9cd458f2b555\">\n",
              "    <div class=\"colab-df-container\">\n",
              "      <div>\n",
              "<style scoped>\n",
              "    .dataframe tbody tr th:only-of-type {\n",
              "        vertical-align: middle;\n",
              "    }\n",
              "\n",
              "    .dataframe tbody tr th {\n",
              "        vertical-align: top;\n",
              "    }\n",
              "\n",
              "    .dataframe thead th {\n",
              "        text-align: right;\n",
              "    }\n",
              "</style>\n",
              "<table border=\"1\" class=\"dataframe\">\n",
              "  <thead>\n",
              "    <tr style=\"text-align: right;\">\n",
              "      <th></th>\n",
              "      <th>EXPEDIENTE</th>\n",
              "      <th>NOMBRE</th>\n",
              "      <th>RAMA</th>\n",
              "      <th>DESCRIPCIÓN RAMA</th>\n",
              "      <th>RAMA 6 DÍGITOS</th>\n",
              "      <th>SUBRAMA 2 DÍGITOS</th>\n",
              "      <th>LIQUIDEZ CORRIENTE</th>\n",
              "      <th>PRUEBA ÁCIDA</th>\n",
              "      <th>ENDEUDAMIENTO DEL ACTIVO</th>\n",
              "      <th>ENDEUDAMIENTO PATRIMONIAL</th>\n",
              "      <th>...</th>\n",
              "      <th>IMPACTO DE LA CARGA FINANCIERA</th>\n",
              "      <th>RENTABILIDAD NETA DEL ACTIVO</th>\n",
              "      <th>MARGEN BRUTO</th>\n",
              "      <th>MARGEN OPERACIONAL</th>\n",
              "      <th>RENTABILIDAD NETA DE VENTAS</th>\n",
              "      <th>RENTABILIDAD OPERACIONAL DEL PATRIMONIO</th>\n",
              "      <th>RENTABLIDAD FINANCIERA</th>\n",
              "      <th>UTILIDAD OPERACIONAL/TOTAL DE ACTIVOS</th>\n",
              "      <th>ROE</th>\n",
              "      <th>ROA</th>\n",
              "    </tr>\n",
              "    <tr>\n",
              "      <th>AÑO</th>\n",
              "      <th></th>\n",
              "      <th></th>\n",
              "      <th></th>\n",
              "      <th></th>\n",
              "      <th></th>\n",
              "      <th></th>\n",
              "      <th></th>\n",
              "      <th></th>\n",
              "      <th></th>\n",
              "      <th></th>\n",
              "      <th></th>\n",
              "      <th></th>\n",
              "      <th></th>\n",
              "      <th></th>\n",
              "      <th></th>\n",
              "      <th></th>\n",
              "      <th></th>\n",
              "      <th></th>\n",
              "      <th></th>\n",
              "      <th></th>\n",
              "      <th></th>\n",
              "    </tr>\n",
              "  </thead>\n",
              "  <tbody>\n",
              "    <tr>\n",
              "      <th>2018</th>\n",
              "      <td>1</td>\n",
              "      <td>ACEITES TROPICALES SOCIEDAD ANONIMA ATSA</td>\n",
              "      <td>A</td>\n",
              "      <td>AGRICULTURA, GANADERÃA,  SILVICULTURA Y PESCA.</td>\n",
              "      <td>A0126.01</td>\n",
              "      <td>A01</td>\n",
              "      <td>2.481571</td>\n",
              "      <td>2.271701</td>\n",
              "      <td>0.031753</td>\n",
              "      <td>0.032794</td>\n",
              "      <td>...</td>\n",
              "      <td>0.000675</td>\n",
              "      <td>0.009573</td>\n",
              "      <td>1.000000</td>\n",
              "      <td>0.726294</td>\n",
              "      <td>0.089992</td>\n",
              "      <td>0.079795</td>\n",
              "      <td>0.009887</td>\n",
              "      <td>0.077261</td>\n",
              "      <td>0.009887</td>\n",
              "      <td>0.009573</td>\n",
              "    </tr>\n",
              "    <tr>\n",
              "      <th>2018</th>\n",
              "      <td>258</td>\n",
              "      <td>COMPANIA ECUATORIANA DEL TE CA CETCA</td>\n",
              "      <td>A</td>\n",
              "      <td>AGRICULTURA, GANADERÃA,  SILVICULTURA Y PESCA.</td>\n",
              "      <td>A0127.09</td>\n",
              "      <td>A01</td>\n",
              "      <td>2.032407</td>\n",
              "      <td>1.179090</td>\n",
              "      <td>0.581443</td>\n",
              "      <td>1.389159</td>\n",
              "      <td>...</td>\n",
              "      <td>0.015389</td>\n",
              "      <td>0.085338</td>\n",
              "      <td>0.907621</td>\n",
              "      <td>0.664227</td>\n",
              "      <td>0.078237</td>\n",
              "      <td>1.730993</td>\n",
              "      <td>0.203887</td>\n",
              "      <td>0.724520</td>\n",
              "      <td>0.203887</td>\n",
              "      <td>0.085338</td>\n",
              "    </tr>\n",
              "    <tr>\n",
              "      <th>2018</th>\n",
              "      <td>554</td>\n",
              "      <td>FURUKAWA PLANTACIONES CA DEL ECUADOR</td>\n",
              "      <td>A</td>\n",
              "      <td>AGRICULTURA, GANADERÃA,  SILVICULTURA Y PESCA.</td>\n",
              "      <td>A0116.05</td>\n",
              "      <td>A01</td>\n",
              "      <td>6.824870</td>\n",
              "      <td>5.269937</td>\n",
              "      <td>0.078561</td>\n",
              "      <td>0.085259</td>\n",
              "      <td>...</td>\n",
              "      <td>0.000000</td>\n",
              "      <td>0.005519</td>\n",
              "      <td>0.443252</td>\n",
              "      <td>0.262013</td>\n",
              "      <td>0.014401</td>\n",
              "      <td>0.108971</td>\n",
              "      <td>0.005989</td>\n",
              "      <td>0.100410</td>\n",
              "      <td>0.005989</td>\n",
              "      <td>0.005519</td>\n",
              "    </tr>\n",
              "    <tr>\n",
              "      <th>2018</th>\n",
              "      <td>620</td>\n",
              "      <td>INCUBADORA NACIONAL CA INCA</td>\n",
              "      <td>A</td>\n",
              "      <td>AGRICULTURA, GANADERÃA,  SILVICULTURA Y PESCA.</td>\n",
              "      <td>A0146.01</td>\n",
              "      <td>A01</td>\n",
              "      <td>3.048584</td>\n",
              "      <td>2.825042</td>\n",
              "      <td>0.208384</td>\n",
              "      <td>0.263239</td>\n",
              "      <td>...</td>\n",
              "      <td>0.000115</td>\n",
              "      <td>0.073252</td>\n",
              "      <td>0.225131</td>\n",
              "      <td>0.154551</td>\n",
              "      <td>0.028452</td>\n",
              "      <td>0.502641</td>\n",
              "      <td>0.092535</td>\n",
              "      <td>0.397899</td>\n",
              "      <td>0.092535</td>\n",
              "      <td>0.073252</td>\n",
              "    </tr>\n",
              "    <tr>\n",
              "      <th>2018</th>\n",
              "      <td>762</td>\n",
              "      <td>LA VINA CIA LTDA</td>\n",
              "      <td>A</td>\n",
              "      <td>AGRICULTURA, GANADERÃA,  SILVICULTURA Y PESCA.</td>\n",
              "      <td>A0119.03</td>\n",
              "      <td>A01</td>\n",
              "      <td>22.065985</td>\n",
              "      <td>22.065985</td>\n",
              "      <td>0.002078</td>\n",
              "      <td>0.002082</td>\n",
              "      <td>...</td>\n",
              "      <td>0.000395</td>\n",
              "      <td>0.000213</td>\n",
              "      <td>0.435921</td>\n",
              "      <td>0.021043</td>\n",
              "      <td>0.009496</td>\n",
              "      <td>0.000474</td>\n",
              "      <td>0.000214</td>\n",
              "      <td>0.000473</td>\n",
              "      <td>0.000214</td>\n",
              "      <td>0.000213</td>\n",
              "    </tr>\n",
              "    <tr>\n",
              "      <th>2018</th>\n",
              "      <td>1278</td>\n",
              "      <td>CULTIVO DE EXPORTACION SA CULTEX</td>\n",
              "      <td>A</td>\n",
              "      <td>AGRICULTURA, GANADERÃA,  SILVICULTURA Y PESCA.</td>\n",
              "      <td>A0220.01</td>\n",
              "      <td>A02</td>\n",
              "      <td>2.427063</td>\n",
              "      <td>2.366631</td>\n",
              "      <td>0.530710</td>\n",
              "      <td>1.130880</td>\n",
              "      <td>...</td>\n",
              "      <td>0.002837</td>\n",
              "      <td>-0.116038</td>\n",
              "      <td>1.000000</td>\n",
              "      <td>0.202044</td>\n",
              "      <td>-0.363560</td>\n",
              "      <td>0.137413</td>\n",
              "      <td>-0.247263</td>\n",
              "      <td>0.064487</td>\n",
              "      <td>-0.247263</td>\n",
              "      <td>-0.116038</td>\n",
              "    </tr>\n",
              "    <tr>\n",
              "      <th>2018</th>\n",
              "      <td>1324</td>\n",
              "      <td>TEXTILES TEXSA SA</td>\n",
              "      <td>A</td>\n",
              "      <td>AGRICULTURA, GANADERÃA,  SILVICULTURA Y PESCA.</td>\n",
              "      <td>A0116.05</td>\n",
              "      <td>A01</td>\n",
              "      <td>29.480400</td>\n",
              "      <td>21.873486</td>\n",
              "      <td>0.079278</td>\n",
              "      <td>0.086104</td>\n",
              "      <td>...</td>\n",
              "      <td>0.001388</td>\n",
              "      <td>0.041565</td>\n",
              "      <td>0.566126</td>\n",
              "      <td>0.434134</td>\n",
              "      <td>0.088345</td>\n",
              "      <td>0.221842</td>\n",
              "      <td>0.045144</td>\n",
              "      <td>0.204255</td>\n",
              "      <td>0.045144</td>\n",
              "      <td>0.041565</td>\n",
              "    </tr>\n",
              "    <tr>\n",
              "      <th>2018</th>\n",
              "      <td>1342</td>\n",
              "      <td>PIRETRO LATINOAMERICANO CA PIRELA</td>\n",
              "      <td>A</td>\n",
              "      <td>AGRICULTURA, GANADERÃA,  SILVICULTURA Y PESCA.</td>\n",
              "      <td>A0128.03</td>\n",
              "      <td>A01</td>\n",
              "      <td>1.417834</td>\n",
              "      <td>1.268602</td>\n",
              "      <td>0.474701</td>\n",
              "      <td>0.903676</td>\n",
              "      <td>...</td>\n",
              "      <td>0.001230</td>\n",
              "      <td>0.019440</td>\n",
              "      <td>0.961852</td>\n",
              "      <td>0.731271</td>\n",
              "      <td>0.032078</td>\n",
              "      <td>0.843641</td>\n",
              "      <td>0.037007</td>\n",
              "      <td>0.443164</td>\n",
              "      <td>0.037007</td>\n",
              "      <td>0.019440</td>\n",
              "    </tr>\n",
              "    <tr>\n",
              "      <th>2018</th>\n",
              "      <td>1457</td>\n",
              "      <td>KENNET CA</td>\n",
              "      <td>A</td>\n",
              "      <td>AGRICULTURA, GANADERÃA,  SILVICULTURA Y PESCA.</td>\n",
              "      <td>A0113.91</td>\n",
              "      <td>A01</td>\n",
              "      <td>0.899910</td>\n",
              "      <td>0.521510</td>\n",
              "      <td>0.723003</td>\n",
              "      <td>2.610153</td>\n",
              "      <td>...</td>\n",
              "      <td>0.012339</td>\n",
              "      <td>0.007473</td>\n",
              "      <td>0.695461</td>\n",
              "      <td>0.472673</td>\n",
              "      <td>0.008571</td>\n",
              "      <td>1.487724</td>\n",
              "      <td>0.026977</td>\n",
              "      <td>0.412095</td>\n",
              "      <td>0.026977</td>\n",
              "      <td>0.007473</td>\n",
              "    </tr>\n",
              "    <tr>\n",
              "      <th>2018</th>\n",
              "      <td>1528</td>\n",
              "      <td>MURRIN CORP.</td>\n",
              "      <td>A</td>\n",
              "      <td>AGRICULTURA, GANADERÃA,  SILVICULTURA Y PESCA.</td>\n",
              "      <td>A0111.39</td>\n",
              "      <td>A01</td>\n",
              "      <td>0.201738</td>\n",
              "      <td>0.080146</td>\n",
              "      <td>0.671532</td>\n",
              "      <td>2.044439</td>\n",
              "      <td>...</td>\n",
              "      <td>0.014145</td>\n",
              "      <td>0.012664</td>\n",
              "      <td>0.590474</td>\n",
              "      <td>0.038405</td>\n",
              "      <td>0.069395</td>\n",
              "      <td>0.021337</td>\n",
              "      <td>0.038554</td>\n",
              "      <td>0.007008</td>\n",
              "      <td>0.038554</td>\n",
              "      <td>0.012664</td>\n",
              "    </tr>\n",
              "  </tbody>\n",
              "</table>\n",
              "<p>10 rows × 36 columns</p>\n",
              "</div>\n",
              "      <button class=\"colab-df-convert\" onclick=\"convertToInteractive('df-3c436513-c891-4e1c-83de-9cd458f2b555')\"\n",
              "              title=\"Convert this dataframe to an interactive table.\"\n",
              "              style=\"display:none;\">\n",
              "        \n",
              "  <svg xmlns=\"http://www.w3.org/2000/svg\" height=\"24px\"viewBox=\"0 0 24 24\"\n",
              "       width=\"24px\">\n",
              "    <path d=\"M0 0h24v24H0V0z\" fill=\"none\"/>\n",
              "    <path d=\"M18.56 5.44l.94 2.06.94-2.06 2.06-.94-2.06-.94-.94-2.06-.94 2.06-2.06.94zm-11 1L8.5 8.5l.94-2.06 2.06-.94-2.06-.94L8.5 2.5l-.94 2.06-2.06.94zm10 10l.94 2.06.94-2.06 2.06-.94-2.06-.94-.94-2.06-.94 2.06-2.06.94z\"/><path d=\"M17.41 7.96l-1.37-1.37c-.4-.4-.92-.59-1.43-.59-.52 0-1.04.2-1.43.59L10.3 9.45l-7.72 7.72c-.78.78-.78 2.05 0 2.83L4 21.41c.39.39.9.59 1.41.59.51 0 1.02-.2 1.41-.59l7.78-7.78 2.81-2.81c.8-.78.8-2.07 0-2.86zM5.41 20L4 18.59l7.72-7.72 1.47 1.35L5.41 20z\"/>\n",
              "  </svg>\n",
              "      </button>\n",
              "      \n",
              "  <style>\n",
              "    .colab-df-container {\n",
              "      display:flex;\n",
              "      flex-wrap:wrap;\n",
              "      gap: 12px;\n",
              "    }\n",
              "\n",
              "    .colab-df-convert {\n",
              "      background-color: #E8F0FE;\n",
              "      border: none;\n",
              "      border-radius: 50%;\n",
              "      cursor: pointer;\n",
              "      display: none;\n",
              "      fill: #1967D2;\n",
              "      height: 32px;\n",
              "      padding: 0 0 0 0;\n",
              "      width: 32px;\n",
              "    }\n",
              "\n",
              "    .colab-df-convert:hover {\n",
              "      background-color: #E2EBFA;\n",
              "      box-shadow: 0px 1px 2px rgba(60, 64, 67, 0.3), 0px 1px 3px 1px rgba(60, 64, 67, 0.15);\n",
              "      fill: #174EA6;\n",
              "    }\n",
              "\n",
              "    [theme=dark] .colab-df-convert {\n",
              "      background-color: #3B4455;\n",
              "      fill: #D2E3FC;\n",
              "    }\n",
              "\n",
              "    [theme=dark] .colab-df-convert:hover {\n",
              "      background-color: #434B5C;\n",
              "      box-shadow: 0px 1px 3px 1px rgba(0, 0, 0, 0.15);\n",
              "      filter: drop-shadow(0px 1px 2px rgba(0, 0, 0, 0.3));\n",
              "      fill: #FFFFFF;\n",
              "    }\n",
              "  </style>\n",
              "\n",
              "      <script>\n",
              "        const buttonEl =\n",
              "          document.querySelector('#df-3c436513-c891-4e1c-83de-9cd458f2b555 button.colab-df-convert');\n",
              "        buttonEl.style.display =\n",
              "          google.colab.kernel.accessAllowed ? 'block' : 'none';\n",
              "\n",
              "        async function convertToInteractive(key) {\n",
              "          const element = document.querySelector('#df-3c436513-c891-4e1c-83de-9cd458f2b555');\n",
              "          const dataTable =\n",
              "            await google.colab.kernel.invokeFunction('convertToInteractive',\n",
              "                                                     [key], {});\n",
              "          if (!dataTable) return;\n",
              "\n",
              "          const docLinkHtml = 'Like what you see? Visit the ' +\n",
              "            '<a target=\"_blank\" href=https://colab.research.google.com/notebooks/data_table.ipynb>data table notebook</a>'\n",
              "            + ' to learn more about interactive tables.';\n",
              "          element.innerHTML = '';\n",
              "          dataTable['output_type'] = 'display_data';\n",
              "          await google.colab.output.renderOutput(dataTable, element);\n",
              "          const docLink = document.createElement('div');\n",
              "          docLink.innerHTML = docLinkHtml;\n",
              "          element.appendChild(docLink);\n",
              "        }\n",
              "      </script>\n",
              "    </div>\n",
              "  </div>\n",
              "  "
            ]
          },
          "metadata": {},
          "execution_count": 72
        }
      ]
    },
    {
      "cell_type": "markdown",
      "source": [
        "##Pre- Procesamiento "
      ],
      "metadata": {
        "id": "oqXGB9jUZJtT"
      }
    },
    {
      "cell_type": "markdown",
      "source": [
        "En esta seccion nos encargaremos de limpiar los datos de saber que datos nos podran ser ayuda para poder implementar en los metodos de inteligencia artifical."
      ],
      "metadata": {
        "id": "7CTc3EeQZnTO"
      }
    },
    {
      "cell_type": "markdown",
      "source": [
        "isna() esta funcion esta encargada de buscar todo los valores NaN o valores vacio y con sum() los procederemos a sumar."
      ],
      "metadata": {
        "id": "9wU-QAl5aT1y"
      }
    },
    {
      "cell_type": "code",
      "source": [
        "comercio.isna().sum()"
      ],
      "metadata": {
        "colab": {
          "base_uri": "https://localhost:8080/"
        },
        "id": "Gmj5RpqPZeyG",
        "outputId": "29d76124-2a0a-46d6-cabb-e10df3f81ac3"
      },
      "execution_count": null,
      "outputs": [
        {
          "output_type": "execute_result",
          "data": {
            "text/plain": [
              "EXPEDIENTE                                    0\n",
              "NOMBRE                                        0\n",
              "RAMA                                          0\n",
              "DESCRIPCIÓN RAMA                              0\n",
              "RAMA 6 DÍGITOS                                0\n",
              "SUBRAMA 2 DÍGITOS                             0\n",
              "LIQUIDEZ CORRIENTE                         4703\n",
              "PRUEBA ÁCIDA                               4703\n",
              "ENDEUDAMIENTO DEL ACTIVO                    803\n",
              "ENDEUDAMIENTO PATRIMONIAL                   780\n",
              "ENDEUDAMIENTO A CORTO PLAZO                4064\n",
              "ENDEUDAMIENTO A LARGO PLAZO                4064\n",
              "COBERTURA DE INTERESES                     8809\n",
              "ENDEUDAMIENTO DEL ACTIVO FIJO              6147\n",
              "APALANCAMIENTO                              780\n",
              "APALANCAMIENTO FINANCIERO                  5157\n",
              "FORTALEZA PATRIMONIAL                       780\n",
              "ENDEUDAMIENTO PATRIMONIAL CORRIENTE         780\n",
              "ENDEUDAMIENTO PATRIMONIAL NO CORRIENTE      780\n",
              "APALANCAMIENTO A CORTO Y LARGO PLAZO        780\n",
              "ROTACIÓN DE CARTERA                        6323\n",
              "ROTACIÓN DE ACTIVO FIJO                    6147\n",
              "ROTACIÓN DE VENTAS                          803\n",
              "PERIODO MEDIO DE COBRANZA CORTO PLAZO      6406\n",
              "PERIODO MEDIO DE PAGO CORTO PLAZO          9874\n",
              "IMPACTO GASTOS ADMINISTRACIÓN Y VENTAS     6406\n",
              "IMPACTO DE LA CARGA FINANCIERA             6406\n",
              "RENTABILIDAD NETA DEL ACTIVO               6583\n",
              "MARGEN BRUTO                               6406\n",
              "MARGEN OPERACIONAL                         6406\n",
              "RENTABILIDAD NETA DE VENTAS                6406\n",
              "RENTABILIDAD OPERACIONAL DEL PATRIMONIO     780\n",
              "RENTABLIDAD FINANCIERA                     6713\n",
              "UTILIDAD OPERACIONAL/TOTAL DE ACTIVOS       803\n",
              "ROE                                         780\n",
              "ROA                                         803\n",
              "dtype: int64"
            ]
          },
          "metadata": {},
          "execution_count": 5
        }
      ]
    },
    {
      "cell_type": "markdown",
      "source": [
        "Se procedera a la separacion de la rama que se va a utilizar en este caso se utilizara la Rama [A]"
      ],
      "metadata": {
        "id": "P49CnLEuajiM"
      }
    },
    {
      "cell_type": "code",
      "source": [
        "#Cambiar nombre de columnas \n",
        "comercio.rename({'AÑO': 'year','EXPEDIENTE': 'expediente','NOMBRE': 'nombre','RAMA': 'rama','DESCRIPCIÓN RAMA': 'descrip_rama',\n",
        "           'RAMA 6 DÍGITOS': 'rama_digit','SUBRAMA 2 DÍGITOS': 'subrama_digit','LIQUIDEZ CORRIENTE': 'liquidez_corriente',\n",
        "           'PRUEBA ÁCIDA': 'prueba_acida','ENDEUDAMIENTO DEL ACTIVO': 'endeu_activo','ENDEUDAMIENTO PATRIMONIAL': 'endeu_patri',\n",
        "           'ENDEUDAMIENTO A CORTO PLAZO': 'endeu_corto','ENDEUDAMIENTO A LARGO PLAZO': 'endeu_largo','COBERTURA DE INTERESES': 'cobertura',\n",
        "           'ENDEUDAMIENTO DEL ACTIVO FIJO': 'endeu_activo_fijo', 'APALANCAMIENTO': 'apal', 'APALANCAMIENTO FINANCIERO': 'apal_finan',\n",
        "           'FORTALEZA PATRIMONIAL': 'fortaleza_patri','ENDEUDAMIENTO PATRIMONIAL CORRIENTE': 'endeu_patricorr','ENDEUDAMIENTO PATRIMONIAL NO CORRIENTE': 'endeu_patri_nocorr',\n",
        "           'APALANCAMIENTO A CORTO Y LARGO PLAZO': 'apal_cort_larg', 'ROTACIÓN DE CARTERA': 'rot_cartera', 'ROTACIÓN DE ACTIVO FIJO': 'rot_actfijo',\n",
        "           'ROTACIÓN DE VENTAS': 'rot_ventas', 'PERIODO MEDIO DE COBRANZA CORTO PLAZO': 'per_cob_cort', 'PERIODO MEDIO DE PAGO CORTO PLAZO': 'per_pago_cort',\n",
        "           'IMPACTO GASTOS ADMINISTRACIÓN Y VENTAS': 'imp_gastos', 'IMPACTO DE LA CARGA FINANCIERA': 'imp_cargaf', 'RENTABILIDAD NETA DEL ACTIVO': 'rent_act',\n",
        "           'MARGEN BRUTO': 'margen_bruto', 'MARGEN OPERACIONAL': 'margen_ope','RENTABILIDAD NETA DE VENTAS': 'rent_ventas',\n",
        "           'RENTABILIDAD OPERACIONAL DEL PATRIMONIO': 'rent_ope_patri','RENTABLIDAD FINANCIERA': 'rent_finan','RENTABILIDAD_OPERACIONAL_DEL_ACTIVO':'rent_ope_activo'},axis=1,inplace=True)"
      ],
      "metadata": {
        "id": "_x7_plffkRAX"
      },
      "execution_count": null,
      "outputs": []
    },
    {
      "cell_type": "markdown",
      "source": [
        "Revisamos que subrama representa más ingresos al país en el sector A"
      ],
      "metadata": {
        "id": "VTorVcY_lA4h"
      }
    },
    {
      "cell_type": "code",
      "source": [
        "desfase = (0.1, 0, 0)\n",
        "colores = [\"#FFFACD\",\"#FF7F50\",\"#B22222\"]\n",
        "comercio['subrama_digit'].value_counts().head(3).plot.pie(autopct='%0.1f %%', colors=colores, explode = desfase, figsize=(8,10))"
      ],
      "metadata": {
        "colab": {
          "base_uri": "https://localhost:8080/",
          "height": 494
        },
        "id": "V8aaYR50k7w1",
        "outputId": "09ba1279-ed9f-4a19-d096-cf25041e7999"
      },
      "execution_count": null,
      "outputs": [
        {
          "output_type": "execute_result",
          "data": {
            "text/plain": [
              "<matplotlib.axes._subplots.AxesSubplot at 0x7f1fd7276e90>"
            ]
          },
          "metadata": {},
          "execution_count": 128
        },
        {
          "output_type": "display_data",
          "data": {
            "text/plain": [
              "<Figure size 576x720 with 1 Axes>"
            ],
            "image/png": "[encoded data removed]"
          },
          "metadata": {}
        }
      ]
    },
    {
      "cell_type": "markdown",
      "source": [
        "la subrama A01, representa mayores ingresos para el país"
      ],
      "metadata": {
        "id": "l09IDGfOldlb"
      }
    },
    {
      "cell_type": "code",
      "source": [
        "from sklearn.preprocessing import StandardScaler\n",
        "## Feature Scaling\n",
        "a = comercio [['liquidez_corriente','prueba_acida','endeu_activo','endeu_patri','endeu_corto','endeu_largo','cobertura', 'endeu_activo_fijo','apal',                             \n",
        "          'apal_finan','apal_finan','endeu_patricorr','endeu_patri_nocorr', 'apal_cort_larg','rot_cartera','rot_actfijo', 'rot_ventas',               \n",
        "          'per_cob_cort', 'per_pago_cort', 'imp_gastos', 'imp_cargaf', 'rent_act','margen_bruto','margen_ope', 'rent_ventas', 'rent_ope_patri',\n",
        "          'rent_finan','ROE','ROA']]\n",
        "sc_df = StandardScaler()\n",
        "df_std = sc_df.fit_transform(a.astype(float)) "
      ],
      "metadata": {
        "id": "9uzlBnR-j0in"
      },
      "execution_count": null,
      "outputs": []
    },
    {
      "cell_type": "markdown",
      "source": [
        "Este codigo se especializa en eliminar todas los elementos que tengan un valor NAN en la columan ROE"
      ],
      "metadata": {
        "id": "UIl2q8iqa-IR"
      }
    },
    {
      "cell_type": "code",
      "source": [
        "a=a[a['ROE'].notna()]"
      ],
      "metadata": {
        "id": "05HiQ0xya9qV"
      },
      "execution_count": null,
      "outputs": []
    },
    {
      "cell_type": "markdown",
      "source": [
        "Se procedera a eliminar todos los valores que tengan NAN"
      ],
      "metadata": {
        "id": "HlwcJDd-bUZ9"
      }
    },
    {
      "cell_type": "code",
      "source": [
        "a=a.dropna()"
      ],
      "metadata": {
        "id": "NXWuWMs1bdeu"
      },
      "execution_count": null,
      "outputs": []
    },
    {
      "cell_type": "markdown",
      "source": [
        "En este parte se vizualizara el tamaño del dataFrame"
      ],
      "metadata": {
        "id": "sDZlEQjebwEI"
      }
    },
    {
      "cell_type": "code",
      "source": [
        "a.shape"
      ],
      "metadata": {
        "colab": {
          "base_uri": "https://localhost:8080/"
        },
        "id": "J3QCj57obqtl",
        "outputId": "bd3f5ee6-b61d-4c8d-f9f2-fccce0bd3243"
      },
      "execution_count": null,
      "outputs": [
        {
          "output_type": "execute_result",
          "data": {
            "text/plain": [
              "(4581, 29)"
            ]
          },
          "metadata": {},
          "execution_count": 118
        }
      ]
    },
    {
      "cell_type": "code",
      "source": [
        "a.columns"
      ],
      "metadata": {
        "colab": {
          "base_uri": "https://localhost:8080/"
        },
        "id": "xj4Is72Xkl8L",
        "outputId": "e2d6456c-0fa9-49f2-c636-fa29192b2e0c"
      },
      "execution_count": null,
      "outputs": [
        {
          "output_type": "execute_result",
          "data": {
            "text/plain": [
              "Index(['liquidez_corriente', 'prueba_acida', 'endeu_activo', 'endeu_patri',\n",
              "       'endeu_corto', 'endeu_largo', 'cobertura', 'endeu_activo_fijo', 'apal',\n",
              "       'apal_finan', 'apal_finan', 'endeu_patricorr', 'endeu_patri_nocorr',\n",
              "       'apal_cort_larg', 'rot_cartera', 'rot_actfijo', 'rot_ventas',\n",
              "       'per_cob_cort', 'per_pago_cort', 'imp_gastos', 'imp_cargaf', 'rent_act',\n",
              "       'margen_bruto', 'margen_ope', 'rent_ventas', 'rent_ope_patri',\n",
              "       'rent_finan', 'ROE', 'ROA'],\n",
              "      dtype='object')"
            ]
          },
          "metadata": {},
          "execution_count": 123
        }
      ]
    },
    {
      "cell_type": "markdown",
      "source": [
        "Revisamos los datos del ROE, en que frecuencia nos encontramos"
      ],
      "metadata": {
        "id": "NyShA5-acYHf"
      }
    },
    {
      "cell_type": "code",
      "source": [
        "print(f\"Asimetria: {a['ROE'].skew()}\")\n",
        "print(f\"Curtosis: {a['ROE'].kurt()}\")"
      ],
      "metadata": {
        "colab": {
          "base_uri": "https://localhost:8080/"
        },
        "id": "AxLBIoLtcS-J",
        "outputId": "04ed0d5f-a646-466e-db09-14896d9670ea"
      },
      "execution_count": null,
      "outputs": [
        {
          "output_type": "stream",
          "name": "stdout",
          "text": [
            "Asimetria: -50.36485316583873\n",
            "Curtosis: 2928.5996130077833\n"
          ]
        }
      ]
    },
    {
      "cell_type": "markdown",
      "source": [
        "Se procedera a crear una tabla donde el valor sacado de la media si es mayor a -0.460738(Es bueno) y si es menor (es malo) representado con el numero 1 y 0"
      ],
      "metadata": {
        "id": "bnDBwOiQcnWp"
      }
    },
    {
      "cell_type": "code",
      "source": [
        "a['VALORACION'] = np.where(a['ROE']>-0.460738, 1,0)\n",
        "a['VALORACION'].value_counts()"
      ],
      "metadata": {
        "colab": {
          "base_uri": "https://localhost:8080/"
        },
        "id": "jMH0lwQoc7XW",
        "outputId": "6888a9cc-ce8b-4eb5-ecdb-78cf74571b48"
      },
      "execution_count": null,
      "outputs": [
        {
          "output_type": "execute_result",
          "data": {
            "text/plain": [
              "1    4150\n",
              "0     431\n",
              "Name: VALORACION, dtype: int64"
            ]
          },
          "metadata": {},
          "execution_count": 131
        }
      ]
    },
    {
      "cell_type": "code",
      "source": [
        "a['VALORACION'] = np.where(a['ROA']>-0.460738, 1,0)\n",
        "a['VALORACION'].value_counts()"
      ],
      "metadata": {
        "colab": {
          "base_uri": "https://localhost:8080/"
        },
        "id": "VfMAgUCHmcYy",
        "outputId": "ae0a4382-bf5e-49e6-8be8-d402a4ba77ae"
      },
      "execution_count": null,
      "outputs": [
        {
          "output_type": "execute_result",
          "data": {
            "text/plain": [
              "1    4525\n",
              "0      56\n",
              "Name: VALORACION, dtype: int64"
            ]
          },
          "metadata": {},
          "execution_count": 137
        }
      ]
    },
    {
      "cell_type": "markdown",
      "source": [
        " RECORDATORIO Negativo: cuando el ROE es inferior al ROA. Esto indica que, el coste medio de la deuda es superior a la rentabilidad económica."
      ],
      "metadata": {
        "id": "oiVWSBVpdQ9O"
      }
    },
    {
      "cell_type": "markdown",
      "source": [
        "Calculo de frecuencia sobre la columna ROE"
      ],
      "metadata": {
        "id": "PpHEhXo8ewZ8"
      }
    },
    {
      "cell_type": "code",
      "source": [
        "a[(a['ROE']>=-0.460738) & (a['ROE']<=1)]['ROE'].plot.hist(bins=10)"
      ],
      "metadata": {
        "colab": {
          "base_uri": "https://localhost:8080/",
          "height": 286
        },
        "id": "BZI9MzRMdR6d",
        "outputId": "5f3cdc9f-eac6-4fdc-cc19-239a1e1a62b6"
      },
      "execution_count": null,
      "outputs": [
        {
          "output_type": "execute_result",
          "data": {
            "text/plain": [
              "<matplotlib.axes._subplots.AxesSubplot at 0x7f1fd71f2610>"
            ]
          },
          "metadata": {},
          "execution_count": 132
        },
        {
          "output_type": "display_data",
          "data": {
            "text/plain": [
              "<Figure size 432x288 with 1 Axes>"
            ],
            "image/png": "[encoded data removed]"
          },
          "metadata": {
            "needs_background": "light"
          }
        }
      ]
    },
    {
      "cell_type": "code",
      "source": [
        "a['ROA'].plot.hist(bins=10)"
      ],
      "metadata": {
        "colab": {
          "base_uri": "https://localhost:8080/",
          "height": 282
        },
        "id": "YOseUP8JeVig",
        "outputId": "c0e83bfc-ec6d-4770-98bd-fb08a7ae8afc"
      },
      "execution_count": null,
      "outputs": [
        {
          "output_type": "execute_result",
          "data": {
            "text/plain": [
              "<matplotlib.axes._subplots.AxesSubplot at 0x7f1fd715d350>"
            ]
          },
          "metadata": {},
          "execution_count": 133
        },
        {
          "output_type": "display_data",
          "data": {
            "text/plain": [
              "<Figure size 432x288 with 1 Axes>"
            ],
            "image/png": "[encoded data removed]"
          },
          "metadata": {
            "needs_background": "light"
          }
        }
      ]
    },
    {
      "cell_type": "code",
      "source": [
        "a[(a['ROA']>=0) & (a['ROA']<=1)]['ROA'].plot.hist(bins=10)"
      ],
      "metadata": {
        "colab": {
          "base_uri": "https://localhost:8080/",
          "height": 282
        },
        "id": "HiudbVkleeQX",
        "outputId": "fb0ac5a6-cb3e-4d41-a54b-f81e88065bba"
      },
      "execution_count": null,
      "outputs": [
        {
          "output_type": "execute_result",
          "data": {
            "text/plain": [
              "<matplotlib.axes._subplots.AxesSubplot at 0x7f1fd80aec10>"
            ]
          },
          "metadata": {},
          "execution_count": 135
        },
        {
          "output_type": "display_data",
          "data": {
            "text/plain": [
              "<Figure size 432x288 with 1 Axes>"
            ],
            "image/png": "[encoded data removed]"
          },
          "metadata": {
            "needs_background": "light"
          }
        }
      ]
    },
    {
      "cell_type": "markdown",
      "source": [
        "**Mapas de correlacional y mapas de calor**"
      ],
      "metadata": {
        "id": "3Bt0IghDgGn-"
      }
    },
    {
      "cell_type": "code",
      "source": [
        "Corr1= a[['endeu_activo','endeu_activo_fijo','endeu_patri','imp_cargaf','ROE','ROE']]\n",
        "Corr2= a[['margen_bruto','margen_ope','apal_finan','ROA','ROE']]\n",
        "Corr3= a[[\"endeu_activo\",\"endeu_patricorr\",\"endeu_corto\",\"endeu_largo\",\"apal\",\"rot_ventas\",\"ROE\"]]"
      ],
      "metadata": {
        "id": "SOfzrC2CgNm6"
      },
      "execution_count": null,
      "outputs": []
    },
    {
      "cell_type": "code",
      "source": [
        "plt.figure(figsize=(15,8))\n",
        "hm = sns.heatmap(Corr1.corr(),annot=True)\n",
        "hm.set_title('mapa de calor ',fontdict={'fontsize':8},pad=12)"
      ],
      "metadata": {
        "colab": {
          "base_uri": "https://localhost:8080/",
          "height": 675
        },
        "id": "ODAvoiC2g4l-",
        "outputId": "07b67ed5-b987-424a-a4a2-12951f9af0d0"
      },
      "execution_count": null,
      "outputs": [
        {
          "output_type": "execute_result",
          "data": {
            "text/plain": [
              "Text(0.5, 1.0, 'mapa de calor ')"
            ]
          },
          "metadata": {},
          "execution_count": 22
        },
        {
          "output_type": "display_data",
          "data": {
            "text/plain": [
              "<Figure size 1080x576 with 2 Axes>"
            ],
            "image/png": "[encoded data removed]"
          },
          "metadata": {
            "needs_background": "light"
          }
        }
      ]
    },
    {
      "cell_type": "code",
      "source": [
        "plt.figure(figsize=(15,8))\n",
        "hm = sns.heatmap(Corr2.corr(),annot=True)\n",
        "hm.set_title('mapa de calor ',fontdict={'fontsize':8},pad=12)"
      ],
      "metadata": {
        "colab": {
          "base_uri": "https://localhost:8080/",
          "height": 520
        },
        "id": "6neRgav_hKIF",
        "outputId": "58a61cc3-40e4-4b19-ce1f-62a6687e4556"
      },
      "execution_count": null,
      "outputs": [
        {
          "output_type": "execute_result",
          "data": {
            "text/plain": [
              "Text(0.5, 1.0, 'mapa de calor ')"
            ]
          },
          "metadata": {},
          "execution_count": 141
        },
        {
          "output_type": "display_data",
          "data": {
            "text/plain": [
              "<Figure size 1080x576 with 2 Axes>"
            ],
            "image/png": "[encoded data removed]"
          },
          "metadata": {
            "needs_background": "light"
          }
        }
      ]
    },
    {
      "cell_type": "code",
      "source": [
        "plt.figure(figsize=(15,8))\n",
        "hm = sns.heatmap(Corr3.corr(),annot=True)\n",
        "hm.set_title('mapa de calor ',fontdict={'fontsize':8},pad=12)"
      ],
      "metadata": {
        "colab": {
          "base_uri": "https://localhost:8080/",
          "height": 520
        },
        "id": "vxI9DI42hMkY",
        "outputId": "6a6d5450-686d-4a1b-bf26-897f885cbaaa"
      },
      "execution_count": null,
      "outputs": [
        {
          "output_type": "execute_result",
          "data": {
            "text/plain": [
              "Text(0.5, 1.0, 'mapa de calor ')"
            ]
          },
          "metadata": {},
          "execution_count": 142
        },
        {
          "output_type": "display_data",
          "data": {
            "text/plain": [
              "<Figure size 1080x576 with 2 Axes>"
            ],
            "image/png": "[encoded data removed]"
          },
          "metadata": {
            "needs_background": "light"
          }
        }
      ]
    },
    {
      "cell_type": "code",
      "source": [
        "Corr3"
      ],
      "metadata": {
        "colab": {
          "base_uri": "https://localhost:8080/",
          "height": 455
        },
        "id": "-caOt570h03d",
        "outputId": "04caa740-6804-4527-8763-52bd0650682d"
      },
      "execution_count": null,
      "outputs": [
        {
          "output_type": "execute_result",
          "data": {
            "text/plain": [
              "      endeu_activo  endeu_patricorr  endeu_corto  endeu_largo        apal  \\\n",
              "AÑO                                                                         \n",
              "2018      0.581443         0.184929     0.373141     0.626859    2.389159   \n",
              "2018      0.208384         0.175094     0.837381     0.162619    1.263239   \n",
              "2018      0.079278         0.007733     0.276957     0.723043    1.086104   \n",
              "2018      0.474701         0.259551     0.346334     0.653666    1.903676   \n",
              "2018      0.723003         1.253004     0.567799     0.432201    3.610153   \n",
              "...            ...              ...          ...          ...         ...   \n",
              "2020      5.699902         0.000000     0.010202     0.989798    0.212770   \n",
              "2020      0.342392         0.422615     1.000000     0.000000    1.520663   \n",
              "2020      0.994740        98.907516     0.663385     0.336615  190.109300   \n",
              "2020      0.762552         3.043322     1.000000     0.000000    4.211455   \n",
              "2020      0.599440         0.591775     0.423325     0.576675    2.496504   \n",
              "\n",
              "      rot_ventas       ROE  \n",
              "AÑO                         \n",
              "2018    1.090772  0.203887  \n",
              "2018    2.574553  0.092535  \n",
              "2018    0.470487  0.045144  \n",
              "2018    0.606019  0.037007  \n",
              "2018    0.871840  0.026977  \n",
              "...          ...       ...  \n",
              "2020    3.593479 -1.171038  \n",
              "2020    0.646106  0.063746  \n",
              "2020    1.225062  0.559490  \n",
              "2020    0.413233  0.060709  \n",
              "2020    0.771149 -0.889186  \n",
              "\n",
              "[4581 rows x 7 columns]"
            ],
            "text/html": [
              "\n",
              "  <div id=\"df-89784e9b-ec5c-4c4b-8f93-42ffb45bf60b\">\n",
              "    <div class=\"colab-df-container\">\n",
              "      <div>\n",
              "<style scoped>\n",
              "    .dataframe tbody tr th:only-of-type {\n",
              "        vertical-align: middle;\n",
              "    }\n",
              "\n",
              "    .dataframe tbody tr th {\n",
              "        vertical-align: top;\n",
              "    }\n",
              "\n",
              "    .dataframe thead th {\n",
              "        text-align: right;\n",
              "    }\n",
              "</style>\n",
              "<table border=\"1\" class=\"dataframe\">\n",
              "  <thead>\n",
              "    <tr style=\"text-align: right;\">\n",
              "      <th></th>\n",
              "      <th>endeu_activo</th>\n",
              "      <th>endeu_patricorr</th>\n",
              "      <th>endeu_corto</th>\n",
              "      <th>endeu_largo</th>\n",
              "      <th>apal</th>\n",
              "      <th>rot_ventas</th>\n",
              "      <th>ROE</th>\n",
              "    </tr>\n",
              "    <tr>\n",
              "      <th>AÑO</th>\n",
              "      <th></th>\n",
              "      <th></th>\n",
              "      <th></th>\n",
              "      <th></th>\n",
              "      <th></th>\n",
              "      <th></th>\n",
              "      <th></th>\n",
              "    </tr>\n",
              "  </thead>\n",
              "  <tbody>\n",
              "    <tr>\n",
              "      <th>2018</th>\n",
              "      <td>0.581443</td>\n",
              "      <td>0.184929</td>\n",
              "      <td>0.373141</td>\n",
              "      <td>0.626859</td>\n",
              "      <td>2.389159</td>\n",
              "      <td>1.090772</td>\n",
              "      <td>0.203887</td>\n",
              "    </tr>\n",
              "    <tr>\n",
              "      <th>2018</th>\n",
              "      <td>0.208384</td>\n",
              "      <td>0.175094</td>\n",
              "      <td>0.837381</td>\n",
              "      <td>0.162619</td>\n",
              "      <td>1.263239</td>\n",
              "      <td>2.574553</td>\n",
              "      <td>0.092535</td>\n",
              "    </tr>\n",
              "    <tr>\n",
              "      <th>2018</th>\n",
              "      <td>0.079278</td>\n",
              "      <td>0.007733</td>\n",
              "      <td>0.276957</td>\n",
              "      <td>0.723043</td>\n",
              "      <td>1.086104</td>\n",
              "      <td>0.470487</td>\n",
              "      <td>0.045144</td>\n",
              "    </tr>\n",
              "    <tr>\n",
              "      <th>2018</th>\n",
              "      <td>0.474701</td>\n",
              "      <td>0.259551</td>\n",
              "      <td>0.346334</td>\n",
              "      <td>0.653666</td>\n",
              "      <td>1.903676</td>\n",
              "      <td>0.606019</td>\n",
              "      <td>0.037007</td>\n",
              "    </tr>\n",
              "    <tr>\n",
              "      <th>2018</th>\n",
              "      <td>0.723003</td>\n",
              "      <td>1.253004</td>\n",
              "      <td>0.567799</td>\n",
              "      <td>0.432201</td>\n",
              "      <td>3.610153</td>\n",
              "      <td>0.871840</td>\n",
              "      <td>0.026977</td>\n",
              "    </tr>\n",
              "    <tr>\n",
              "      <th>...</th>\n",
              "      <td>...</td>\n",
              "      <td>...</td>\n",
              "      <td>...</td>\n",
              "      <td>...</td>\n",
              "      <td>...</td>\n",
              "      <td>...</td>\n",
              "      <td>...</td>\n",
              "    </tr>\n",
              "    <tr>\n",
              "      <th>2020</th>\n",
              "      <td>5.699902</td>\n",
              "      <td>0.000000</td>\n",
              "      <td>0.010202</td>\n",
              "      <td>0.989798</td>\n",
              "      <td>0.212770</td>\n",
              "      <td>3.593479</td>\n",
              "      <td>-1.171038</td>\n",
              "    </tr>\n",
              "    <tr>\n",
              "      <th>2020</th>\n",
              "      <td>0.342392</td>\n",
              "      <td>0.422615</td>\n",
              "      <td>1.000000</td>\n",
              "      <td>0.000000</td>\n",
              "      <td>1.520663</td>\n",
              "      <td>0.646106</td>\n",
              "      <td>0.063746</td>\n",
              "    </tr>\n",
              "    <tr>\n",
              "      <th>2020</th>\n",
              "      <td>0.994740</td>\n",
              "      <td>98.907516</td>\n",
              "      <td>0.663385</td>\n",
              "      <td>0.336615</td>\n",
              "      <td>190.109300</td>\n",
              "      <td>1.225062</td>\n",
              "      <td>0.559490</td>\n",
              "    </tr>\n",
              "    <tr>\n",
              "      <th>2020</th>\n",
              "      <td>0.762552</td>\n",
              "      <td>3.043322</td>\n",
              "      <td>1.000000</td>\n",
              "      <td>0.000000</td>\n",
              "      <td>4.211455</td>\n",
              "      <td>0.413233</td>\n",
              "      <td>0.060709</td>\n",
              "    </tr>\n",
              "    <tr>\n",
              "      <th>2020</th>\n",
              "      <td>0.599440</td>\n",
              "      <td>0.591775</td>\n",
              "      <td>0.423325</td>\n",
              "      <td>0.576675</td>\n",
              "      <td>2.496504</td>\n",
              "      <td>0.771149</td>\n",
              "      <td>-0.889186</td>\n",
              "    </tr>\n",
              "  </tbody>\n",
              "</table>\n",
              "<p>4581 rows × 7 columns</p>\n",
              "</div>\n",
              "      <button class=\"colab-df-convert\" onclick=\"convertToInteractive('df-89784e9b-ec5c-4c4b-8f93-42ffb45bf60b')\"\n",
              "              title=\"Convert this dataframe to an interactive table.\"\n",
              "              style=\"display:none;\">\n",
              "        \n",
              "  <svg xmlns=\"http://www.w3.org/2000/svg\" height=\"24px\"viewBox=\"0 0 24 24\"\n",
              "       width=\"24px\">\n",
              "    <path d=\"M0 0h24v24H0V0z\" fill=\"none\"/>\n",
              "    <path d=\"M18.56 5.44l.94 2.06.94-2.06 2.06-.94-2.06-.94-.94-2.06-.94 2.06-2.06.94zm-11 1L8.5 8.5l.94-2.06 2.06-.94-2.06-.94L8.5 2.5l-.94 2.06-2.06.94zm10 10l.94 2.06.94-2.06 2.06-.94-2.06-.94-.94-2.06-.94 2.06-2.06.94z\"/><path d=\"M17.41 7.96l-1.37-1.37c-.4-.4-.92-.59-1.43-.59-.52 0-1.04.2-1.43.59L10.3 9.45l-7.72 7.72c-.78.78-.78 2.05 0 2.83L4 21.41c.39.39.9.59 1.41.59.51 0 1.02-.2 1.41-.59l7.78-7.78 2.81-2.81c.8-.78.8-2.07 0-2.86zM5.41 20L4 18.59l7.72-7.72 1.47 1.35L5.41 20z\"/>\n",
              "  </svg>\n",
              "      </button>\n",
              "      \n",
              "  <style>\n",
              "    .colab-df-container {\n",
              "      display:flex;\n",
              "      flex-wrap:wrap;\n",
              "      gap: 12px;\n",
              "    }\n",
              "\n",
              "    .colab-df-convert {\n",
              "      background-color: #E8F0FE;\n",
              "      border: none;\n",
              "      border-radius: 50%;\n",
              "      cursor: pointer;\n",
              "      display: none;\n",
              "      fill: #1967D2;\n",
              "      height: 32px;\n",
              "      padding: 0 0 0 0;\n",
              "      width: 32px;\n",
              "    }\n",
              "\n",
              "    .colab-df-convert:hover {\n",
              "      background-color: #E2EBFA;\n",
              "      box-shadow: 0px 1px 2px rgba(60, 64, 67, 0.3), 0px 1px 3px 1px rgba(60, 64, 67, 0.15);\n",
              "      fill: #174EA6;\n",
              "    }\n",
              "\n",
              "    [theme=dark] .colab-df-convert {\n",
              "      background-color: #3B4455;\n",
              "      fill: #D2E3FC;\n",
              "    }\n",
              "\n",
              "    [theme=dark] .colab-df-convert:hover {\n",
              "      background-color: #434B5C;\n",
              "      box-shadow: 0px 1px 3px 1px rgba(0, 0, 0, 0.15);\n",
              "      filter: drop-shadow(0px 1px 2px rgba(0, 0, 0, 0.3));\n",
              "      fill: #FFFFFF;\n",
              "    }\n",
              "  </style>\n",
              "\n",
              "      <script>\n",
              "        const buttonEl =\n",
              "          document.querySelector('#df-89784e9b-ec5c-4c4b-8f93-42ffb45bf60b button.colab-df-convert');\n",
              "        buttonEl.style.display =\n",
              "          google.colab.kernel.accessAllowed ? 'block' : 'none';\n",
              "\n",
              "        async function convertToInteractive(key) {\n",
              "          const element = document.querySelector('#df-89784e9b-ec5c-4c4b-8f93-42ffb45bf60b');\n",
              "          const dataTable =\n",
              "            await google.colab.kernel.invokeFunction('convertToInteractive',\n",
              "                                                     [key], {});\n",
              "          if (!dataTable) return;\n",
              "\n",
              "          const docLinkHtml = 'Like what you see? Visit the ' +\n",
              "            '<a target=\"_blank\" href=https://colab.research.google.com/notebooks/data_table.ipynb>data table notebook</a>'\n",
              "            + ' to learn more about interactive tables.';\n",
              "          element.innerHTML = '';\n",
              "          dataTable['output_type'] = 'display_data';\n",
              "          await google.colab.output.renderOutput(dataTable, element);\n",
              "          const docLink = document.createElement('div');\n",
              "          docLink.innerHTML = docLinkHtml;\n",
              "          element.appendChild(docLink);\n",
              "        }\n",
              "      </script>\n",
              "    </div>\n",
              "  </div>\n",
              "  "
            ]
          },
          "metadata": {},
          "execution_count": 143
        }
      ]
    },
    {
      "cell_type": "markdown",
      "source": [
        "##Regresion Logistica"
      ],
      "metadata": {
        "id": "VTL-_tpifek0"
      }
    },
    {
      "cell_type": "code",
      "source": [
        "Corr3.size"
      ],
      "metadata": {
        "colab": {
          "base_uri": "https://localhost:8080/"
        },
        "id": "yjhW0Qdvi_9s",
        "outputId": "d76fb9c3-dc82-4ba7-ebce-d0ea533bb099"
      },
      "execution_count": null,
      "outputs": [
        {
          "output_type": "execute_result",
          "data": {
            "text/plain": [
              "32067"
            ]
          },
          "metadata": {},
          "execution_count": 93
        }
      ]
    },
    {
      "cell_type": "code",
      "source": [
        "class transformacion(torch.utils.data.Dataset):\n",
        "  def __init__(self, file_name):\n",
        "    file_out =file_name \n",
        "    X = file_out.iloc[:, :-1].values\n",
        "    y = file_out.iloc[:, -1:].values\n",
        "\n",
        "    sc=StandardScaler()\n",
        "    self.X = sc.fit_transform(X)\n",
        "    self.y = y\n",
        "\n",
        "    X=torch.tensor(X, dtype=torch.float32)\n",
        "    y = torch.tensor(y)\n",
        "\n",
        "  def __len__(self):\n",
        "   return len(self.y)\n",
        "  \n",
        "  def __getitem__(self, i):\n",
        "   return self.X[i], self.y[i]"
      ],
      "metadata": {
        "id": "VIJdYOIaeufT"
      },
      "execution_count": null,
      "outputs": []
    },
    {
      "cell_type": "code",
      "source": [
        "dataset = transformacion(Corr3)"
      ],
      "metadata": {
        "id": "AZGbk8n8ig2V"
      },
      "execution_count": null,
      "outputs": []
    },
    {
      "cell_type": "code",
      "source": [
        "x_train,x_test,y_train,y_test= train_test_split(dataset.X,dataset.y, test_size=0.2,random_state=0)"
      ],
      "metadata": {
        "id": "zxIq7D38ioo2"
      },
      "execution_count": null,
      "outputs": []
    },
    {
      "cell_type": "code",
      "source": [
        "x_train=torch.from_numpy(x_train.astype(np.float32))\n",
        "x_test=torch.from_numpy(x_test.astype(np.float32))\n",
        "y_train=torch.from_numpy(y_train.astype(np.float32))\n",
        "y_test=torch.from_numpy(y_test.astype(np.float32))"
      ],
      "metadata": {
        "id": "zSGKplWRi21o"
      },
      "execution_count": null,
      "outputs": []
    },
    {
      "cell_type": "code",
      "source": [
        "y_train=y_train.view(y_train.shape[0],1)\n",
        "y_test=y_test.view(y_test.shape[0],1)"
      ],
      "metadata": {
        "id": "MuGnJmxAi4Ap"
      },
      "execution_count": null,
      "outputs": []
    },
    {
      "cell_type": "code",
      "source": [
        "class Logistic_Reg_model(torch.nn.Module):\n",
        " def __init__(self,no_input_features):\n",
        "   super(Logistic_Reg_model,self).__init__()\n",
        "   self.layer1=torch.nn.Linear(no_input_features,20)\n",
        "   self.layer2=torch.nn.Linear(20,1)\n",
        " def forward(self,x):\n",
        "   y_predicted=self.layer1(x)\n",
        "   y_predicted=torch.sigmoid(self.layer2(y_predicted))\n",
        "   return y_predicted"
      ],
      "metadata": {
        "id": "GtCh_jupi5_d"
      },
      "execution_count": null,
      "outputs": []
    },
    {
      "cell_type": "code",
      "source": [
        "model=Logistic_Reg_model(6)"
      ],
      "metadata": {
        "id": "tNtdnd_7i9zJ"
      },
      "execution_count": null,
      "outputs": []
    },
    {
      "cell_type": "code",
      "source": [
        "criterion=torch.nn.BCEWithLogitsLoss()\n",
        "optimizer=torch.optim.SGD(model.parameters(),lr=0.01)"
      ],
      "metadata": {
        "id": "KvEr3DewjOuc"
      },
      "execution_count": null,
      "outputs": []
    },
    {
      "cell_type": "code",
      "source": [
        "number_of_epochs=100\n",
        "for epoch in range(number_of_epochs):\n",
        " y_prediction=model(x_train)\n",
        " loss=criterion(y_prediction,y_train)\n",
        " loss.backward()\n",
        " optimizer.step()\n",
        " optimizer.zero_grad()\n",
        " if (epoch+1)%10 == 0:\n",
        "   print('epoch:', epoch+1,',loss=',loss.item())"
      ],
      "metadata": {
        "colab": {
          "base_uri": "https://localhost:8080/"
        },
        "id": "4PUsyflljTLe",
        "outputId": "3fa16985-3df2-494f-e13e-6278cbc9bdfd"
      },
      "execution_count": null,
      "outputs": [
        {
          "output_type": "stream",
          "name": "stdout",
          "text": [
            "epoch: 10 ,loss= 1.1682568788528442\n",
            "epoch: 20 ,loss= 1.049324631690979\n",
            "epoch: 30 ,loss= 0.9943089485168457\n",
            "epoch: 40 ,loss= 0.9728281497955322\n",
            "epoch: 50 ,loss= 0.9584953188896179\n",
            "epoch: 60 ,loss= 0.946660041809082\n",
            "epoch: 70 ,loss= 0.9360731244087219\n",
            "epoch: 80 ,loss= 0.9262802004814148\n",
            "epoch: 90 ,loss= 0.9170804619789124\n",
            "epoch: 100 ,loss= 0.9083712100982666\n"
          ]
        }
      ]
    },
    {
      "cell_type": "code",
      "source": [
        "with torch.no_grad():\n",
        " y_pred=model(x_test)\n",
        " y_pred_class=y_pred.round()\n",
        " accuracy=(y_pred_class.eq(y_test).sum())/float(y_test.shape[0])\n",
        " print(accuracy.item())"
      ],
      "metadata": {
        "colab": {
          "base_uri": "https://localhost:8080/"
        },
        "id": "QzLdBUHwjU5R",
        "outputId": "cca7162c-9bfc-41c1-b3ba-b957bec9e26a"
      },
      "execution_count": null,
      "outputs": [
        {
          "output_type": "stream",
          "name": "stdout",
          "text": [
            "0.004362049978226423\n"
          ]
        }
      ]
    },
    {
      "cell_type": "markdown",
      "source": [
        "##Regresion Lineal\n"
      ],
      "metadata": {
        "id": "n4On96LakcOB"
      }
    },
    {
      "cell_type": "code",
      "source": [
        "Corr3"
      ],
      "metadata": {
        "colab": {
          "base_uri": "https://localhost:8080/",
          "height": 455
        },
        "id": "yGPg1pkplGju",
        "outputId": "4e53ae97-d9da-44b6-a453-9af57b8d841c"
      },
      "execution_count": null,
      "outputs": [
        {
          "output_type": "execute_result",
          "data": {
            "text/plain": [
              "      endeu_activo  endeu_patricorr  endeu_corto  endeu_largo        apal  \\\n",
              "AÑO                                                                         \n",
              "2018      0.581443         0.184929     0.373141     0.626859    2.389159   \n",
              "2018      0.208384         0.175094     0.837381     0.162619    1.263239   \n",
              "2018      0.079278         0.007733     0.276957     0.723043    1.086104   \n",
              "2018      0.474701         0.259551     0.346334     0.653666    1.903676   \n",
              "2018      0.723003         1.253004     0.567799     0.432201    3.610153   \n",
              "...            ...              ...          ...          ...         ...   \n",
              "2020      5.699902         0.000000     0.010202     0.989798    0.212770   \n",
              "2020      0.342392         0.422615     1.000000     0.000000    1.520663   \n",
              "2020      0.994740        98.907516     0.663385     0.336615  190.109300   \n",
              "2020      0.762552         3.043322     1.000000     0.000000    4.211455   \n",
              "2020      0.599440         0.591775     0.423325     0.576675    2.496504   \n",
              "\n",
              "      rot_ventas       ROE  \n",
              "AÑO                         \n",
              "2018    1.090772  0.203887  \n",
              "2018    2.574553  0.092535  \n",
              "2018    0.470487  0.045144  \n",
              "2018    0.606019  0.037007  \n",
              "2018    0.871840  0.026977  \n",
              "...          ...       ...  \n",
              "2020    3.593479 -1.171038  \n",
              "2020    0.646106  0.063746  \n",
              "2020    1.225062  0.559490  \n",
              "2020    0.413233  0.060709  \n",
              "2020    0.771149 -0.889186  \n",
              "\n",
              "[4581 rows x 7 columns]"
            ],
            "text/html": [
              "\n",
              "  <div id=\"df-eeece566-8985-4027-b991-9b5f6538b035\">\n",
              "    <div class=\"colab-df-container\">\n",
              "      <div>\n",
              "<style scoped>\n",
              "    .dataframe tbody tr th:only-of-type {\n",
              "        vertical-align: middle;\n",
              "    }\n",
              "\n",
              "    .dataframe tbody tr th {\n",
              "        vertical-align: top;\n",
              "    }\n",
              "\n",
              "    .dataframe thead th {\n",
              "        text-align: right;\n",
              "    }\n",
              "</style>\n",
              "<table border=\"1\" class=\"dataframe\">\n",
              "  <thead>\n",
              "    <tr style=\"text-align: right;\">\n",
              "      <th></th>\n",
              "      <th>endeu_activo</th>\n",
              "      <th>endeu_patricorr</th>\n",
              "      <th>endeu_corto</th>\n",
              "      <th>endeu_largo</th>\n",
              "      <th>apal</th>\n",
              "      <th>rot_ventas</th>\n",
              "      <th>ROE</th>\n",
              "    </tr>\n",
              "    <tr>\n",
              "      <th>AÑO</th>\n",
              "      <th></th>\n",
              "      <th></th>\n",
              "      <th></th>\n",
              "      <th></th>\n",
              "      <th></th>\n",
              "      <th></th>\n",
              "      <th></th>\n",
              "    </tr>\n",
              "  </thead>\n",
              "  <tbody>\n",
              "    <tr>\n",
              "      <th>2018</th>\n",
              "      <td>0.581443</td>\n",
              "      <td>0.184929</td>\n",
              "      <td>0.373141</td>\n",
              "      <td>0.626859</td>\n",
              "      <td>2.389159</td>\n",
              "      <td>1.090772</td>\n",
              "      <td>0.203887</td>\n",
              "    </tr>\n",
              "    <tr>\n",
              "      <th>2018</th>\n",
              "      <td>0.208384</td>\n",
              "      <td>0.175094</td>\n",
              "      <td>0.837381</td>\n",
              "      <td>0.162619</td>\n",
              "      <td>1.263239</td>\n",
              "      <td>2.574553</td>\n",
              "      <td>0.092535</td>\n",
              "    </tr>\n",
              "    <tr>\n",
              "      <th>2018</th>\n",
              "      <td>0.079278</td>\n",
              "      <td>0.007733</td>\n",
              "      <td>0.276957</td>\n",
              "      <td>0.723043</td>\n",
              "      <td>1.086104</td>\n",
              "      <td>0.470487</td>\n",
              "      <td>0.045144</td>\n",
              "    </tr>\n",
              "    <tr>\n",
              "      <th>2018</th>\n",
              "      <td>0.474701</td>\n",
              "      <td>0.259551</td>\n",
              "      <td>0.346334</td>\n",
              "      <td>0.653666</td>\n",
              "      <td>1.903676</td>\n",
              "      <td>0.606019</td>\n",
              "      <td>0.037007</td>\n",
              "    </tr>\n",
              "    <tr>\n",
              "      <th>2018</th>\n",
              "      <td>0.723003</td>\n",
              "      <td>1.253004</td>\n",
              "      <td>0.567799</td>\n",
              "      <td>0.432201</td>\n",
              "      <td>3.610153</td>\n",
              "      <td>0.871840</td>\n",
              "      <td>0.026977</td>\n",
              "    </tr>\n",
              "    <tr>\n",
              "      <th>...</th>\n",
              "      <td>...</td>\n",
              "      <td>...</td>\n",
              "      <td>...</td>\n",
              "      <td>...</td>\n",
              "      <td>...</td>\n",
              "      <td>...</td>\n",
              "      <td>...</td>\n",
              "    </tr>\n",
              "    <tr>\n",
              "      <th>2020</th>\n",
              "      <td>5.699902</td>\n",
              "      <td>0.000000</td>\n",
              "      <td>0.010202</td>\n",
              "      <td>0.989798</td>\n",
              "      <td>0.212770</td>\n",
              "      <td>3.593479</td>\n",
              "      <td>-1.171038</td>\n",
              "    </tr>\n",
              "    <tr>\n",
              "      <th>2020</th>\n",
              "      <td>0.342392</td>\n",
              "      <td>0.422615</td>\n",
              "      <td>1.000000</td>\n",
              "      <td>0.000000</td>\n",
              "      <td>1.520663</td>\n",
              "      <td>0.646106</td>\n",
              "      <td>0.063746</td>\n",
              "    </tr>\n",
              "    <tr>\n",
              "      <th>2020</th>\n",
              "      <td>0.994740</td>\n",
              "      <td>98.907516</td>\n",
              "      <td>0.663385</td>\n",
              "      <td>0.336615</td>\n",
              "      <td>190.109300</td>\n",
              "      <td>1.225062</td>\n",
              "      <td>0.559490</td>\n",
              "    </tr>\n",
              "    <tr>\n",
              "      <th>2020</th>\n",
              "      <td>0.762552</td>\n",
              "      <td>3.043322</td>\n",
              "      <td>1.000000</td>\n",
              "      <td>0.000000</td>\n",
              "      <td>4.211455</td>\n",
              "      <td>0.413233</td>\n",
              "      <td>0.060709</td>\n",
              "    </tr>\n",
              "    <tr>\n",
              "      <th>2020</th>\n",
              "      <td>0.599440</td>\n",
              "      <td>0.591775</td>\n",
              "      <td>0.423325</td>\n",
              "      <td>0.576675</td>\n",
              "      <td>2.496504</td>\n",
              "      <td>0.771149</td>\n",
              "      <td>-0.889186</td>\n",
              "    </tr>\n",
              "  </tbody>\n",
              "</table>\n",
              "<p>4581 rows × 7 columns</p>\n",
              "</div>\n",
              "      <button class=\"colab-df-convert\" onclick=\"convertToInteractive('df-eeece566-8985-4027-b991-9b5f6538b035')\"\n",
              "              title=\"Convert this dataframe to an interactive table.\"\n",
              "              style=\"display:none;\">\n",
              "        \n",
              "  <svg xmlns=\"http://www.w3.org/2000/svg\" height=\"24px\"viewBox=\"0 0 24 24\"\n",
              "       width=\"24px\">\n",
              "    <path d=\"M0 0h24v24H0V0z\" fill=\"none\"/>\n",
              "    <path d=\"M18.56 5.44l.94 2.06.94-2.06 2.06-.94-2.06-.94-.94-2.06-.94 2.06-2.06.94zm-11 1L8.5 8.5l.94-2.06 2.06-.94-2.06-.94L8.5 2.5l-.94 2.06-2.06.94zm10 10l.94 2.06.94-2.06 2.06-.94-2.06-.94-.94-2.06-.94 2.06-2.06.94z\"/><path d=\"M17.41 7.96l-1.37-1.37c-.4-.4-.92-.59-1.43-.59-.52 0-1.04.2-1.43.59L10.3 9.45l-7.72 7.72c-.78.78-.78 2.05 0 2.83L4 21.41c.39.39.9.59 1.41.59.51 0 1.02-.2 1.41-.59l7.78-7.78 2.81-2.81c.8-.78.8-2.07 0-2.86zM5.41 20L4 18.59l7.72-7.72 1.47 1.35L5.41 20z\"/>\n",
              "  </svg>\n",
              "      </button>\n",
              "      \n",
              "  <style>\n",
              "    .colab-df-container {\n",
              "      display:flex;\n",
              "      flex-wrap:wrap;\n",
              "      gap: 12px;\n",
              "    }\n",
              "\n",
              "    .colab-df-convert {\n",
              "      background-color: #E8F0FE;\n",
              "      border: none;\n",
              "      border-radius: 50%;\n",
              "      cursor: pointer;\n",
              "      display: none;\n",
              "      fill: #1967D2;\n",
              "      height: 32px;\n",
              "      padding: 0 0 0 0;\n",
              "      width: 32px;\n",
              "    }\n",
              "\n",
              "    .colab-df-convert:hover {\n",
              "      background-color: #E2EBFA;\n",
              "      box-shadow: 0px 1px 2px rgba(60, 64, 67, 0.3), 0px 1px 3px 1px rgba(60, 64, 67, 0.15);\n",
              "      fill: #174EA6;\n",
              "    }\n",
              "\n",
              "    [theme=dark] .colab-df-convert {\n",
              "      background-color: #3B4455;\n",
              "      fill: #D2E3FC;\n",
              "    }\n",
              "\n",
              "    [theme=dark] .colab-df-convert:hover {\n",
              "      background-color: #434B5C;\n",
              "      box-shadow: 0px 1px 3px 1px rgba(0, 0, 0, 0.15);\n",
              "      filter: drop-shadow(0px 1px 2px rgba(0, 0, 0, 0.3));\n",
              "      fill: #FFFFFF;\n",
              "    }\n",
              "  </style>\n",
              "\n",
              "      <script>\n",
              "        const buttonEl =\n",
              "          document.querySelector('#df-eeece566-8985-4027-b991-9b5f6538b035 button.colab-df-convert');\n",
              "        buttonEl.style.display =\n",
              "          google.colab.kernel.accessAllowed ? 'block' : 'none';\n",
              "\n",
              "        async function convertToInteractive(key) {\n",
              "          const element = document.querySelector('#df-eeece566-8985-4027-b991-9b5f6538b035');\n",
              "          const dataTable =\n",
              "            await google.colab.kernel.invokeFunction('convertToInteractive',\n",
              "                                                     [key], {});\n",
              "          if (!dataTable) return;\n",
              "\n",
              "          const docLinkHtml = 'Like what you see? Visit the ' +\n",
              "            '<a target=\"_blank\" href=https://colab.research.google.com/notebooks/data_table.ipynb>data table notebook</a>'\n",
              "            + ' to learn more about interactive tables.';\n",
              "          element.innerHTML = '';\n",
              "          dataTable['output_type'] = 'display_data';\n",
              "          await google.colab.output.renderOutput(dataTable, element);\n",
              "          const docLink = document.createElement('div');\n",
              "          docLink.innerHTML = docLinkHtml;\n",
              "          element.appendChild(docLink);\n",
              "        }\n",
              "      </script>\n",
              "    </div>\n",
              "  </div>\n",
              "  "
            ]
          },
          "metadata": {},
          "execution_count": 154
        }
      ]
    },
    {
      "cell_type": "code",
      "source": [
        "Corr4=Corr3"
      ],
      "metadata": {
        "id": "HwIiU4IcmAue"
      },
      "execution_count": null,
      "outputs": []
    },
    {
      "cell_type": "code",
      "source": [
        "Corr4['VALORACION']=a['VALORACION']"
      ],
      "metadata": {
        "colab": {
          "base_uri": "https://localhost:8080/"
        },
        "id": "6oJofEt1lg6v",
        "outputId": "a804418d-e15e-4972-ded9-d371a93a9ba1"
      },
      "execution_count": null,
      "outputs": [
        {
          "output_type": "stream",
          "name": "stderr",
          "text": [
            "/usr/local/lib/python3.7/dist-packages/ipykernel_launcher.py:1: SettingWithCopyWarning: \n",
            "A value is trying to be set on a copy of a slice from a DataFrame.\n",
            "Try using .loc[row_indexer,col_indexer] = value instead\n",
            "\n",
            "See the caveats in the documentation: https://pandas.pydata.org/pandas-docs/stable/user_guide/indexing.html#returning-a-view-versus-a-copy\n",
            "  \"\"\"Entry point for launching an IPython kernel.\n"
          ]
        }
      ]
    },
    {
      "cell_type": "code",
      "source": [
        "Corr4"
      ],
      "metadata": {
        "colab": {
          "base_uri": "https://localhost:8080/",
          "height": 455
        },
        "id": "mA4L7V1OmHR1",
        "outputId": "ed02e45e-2899-472e-c206-23e7a66b3d6e"
      },
      "execution_count": null,
      "outputs": [
        {
          "output_type": "execute_result",
          "data": {
            "text/plain": [
              "      endeu_activo  endeu_patricorr  endeu_corto  endeu_largo        apal  \\\n",
              "AÑO                                                                         \n",
              "2018      0.581443         0.184929     0.373141     0.626859    2.389159   \n",
              "2018      0.208384         0.175094     0.837381     0.162619    1.263239   \n",
              "2018      0.079278         0.007733     0.276957     0.723043    1.086104   \n",
              "2018      0.474701         0.259551     0.346334     0.653666    1.903676   \n",
              "2018      0.723003         1.253004     0.567799     0.432201    3.610153   \n",
              "...            ...              ...          ...          ...         ...   \n",
              "2020      5.699902         0.000000     0.010202     0.989798    0.212770   \n",
              "2020      0.342392         0.422615     1.000000     0.000000    1.520663   \n",
              "2020      0.994740        98.907516     0.663385     0.336615  190.109300   \n",
              "2020      0.762552         3.043322     1.000000     0.000000    4.211455   \n",
              "2020      0.599440         0.591775     0.423325     0.576675    2.496504   \n",
              "\n",
              "      rot_ventas       ROE  VALORACION  \n",
              "AÑO                                     \n",
              "2018    1.090772  0.203887           1  \n",
              "2018    2.574553  0.092535           1  \n",
              "2018    0.470487  0.045144           1  \n",
              "2018    0.606019  0.037007           1  \n",
              "2018    0.871840  0.026977           1  \n",
              "...          ...       ...         ...  \n",
              "2020    3.593479 -1.171038           0  \n",
              "2020    0.646106  0.063746           1  \n",
              "2020    1.225062  0.559490           1  \n",
              "2020    0.413233  0.060709           1  \n",
              "2020    0.771149 -0.889186           1  \n",
              "\n",
              "[4581 rows x 8 columns]"
            ],
            "text/html": [
              "\n",
              "  <div id=\"df-e8d8fa8a-ebce-4358-a24b-95a0d29c59aa\">\n",
              "    <div class=\"colab-df-container\">\n",
              "      <div>\n",
              "<style scoped>\n",
              "    .dataframe tbody tr th:only-of-type {\n",
              "        vertical-align: middle;\n",
              "    }\n",
              "\n",
              "    .dataframe tbody tr th {\n",
              "        vertical-align: top;\n",
              "    }\n",
              "\n",
              "    .dataframe thead th {\n",
              "        text-align: right;\n",
              "    }\n",
              "</style>\n",
              "<table border=\"1\" class=\"dataframe\">\n",
              "  <thead>\n",
              "    <tr style=\"text-align: right;\">\n",
              "      <th></th>\n",
              "      <th>endeu_activo</th>\n",
              "      <th>endeu_patricorr</th>\n",
              "      <th>endeu_corto</th>\n",
              "      <th>endeu_largo</th>\n",
              "      <th>apal</th>\n",
              "      <th>rot_ventas</th>\n",
              "      <th>ROE</th>\n",
              "      <th>VALORACION</th>\n",
              "    </tr>\n",
              "    <tr>\n",
              "      <th>AÑO</th>\n",
              "      <th></th>\n",
              "      <th></th>\n",
              "      <th></th>\n",
              "      <th></th>\n",
              "      <th></th>\n",
              "      <th></th>\n",
              "      <th></th>\n",
              "      <th></th>\n",
              "    </tr>\n",
              "  </thead>\n",
              "  <tbody>\n",
              "    <tr>\n",
              "      <th>2018</th>\n",
              "      <td>0.581443</td>\n",
              "      <td>0.184929</td>\n",
              "      <td>0.373141</td>\n",
              "      <td>0.626859</td>\n",
              "      <td>2.389159</td>\n",
              "      <td>1.090772</td>\n",
              "      <td>0.203887</td>\n",
              "      <td>1</td>\n",
              "    </tr>\n",
              "    <tr>\n",
              "      <th>2018</th>\n",
              "      <td>0.208384</td>\n",
              "      <td>0.175094</td>\n",
              "      <td>0.837381</td>\n",
              "      <td>0.162619</td>\n",
              "      <td>1.263239</td>\n",
              "      <td>2.574553</td>\n",
              "      <td>0.092535</td>\n",
              "      <td>1</td>\n",
              "    </tr>\n",
              "    <tr>\n",
              "      <th>2018</th>\n",
              "      <td>0.079278</td>\n",
              "      <td>0.007733</td>\n",
              "      <td>0.276957</td>\n",
              "      <td>0.723043</td>\n",
              "      <td>1.086104</td>\n",
              "      <td>0.470487</td>\n",
              "      <td>0.045144</td>\n",
              "      <td>1</td>\n",
              "    </tr>\n",
              "    <tr>\n",
              "      <th>2018</th>\n",
              "      <td>0.474701</td>\n",
              "      <td>0.259551</td>\n",
              "      <td>0.346334</td>\n",
              "      <td>0.653666</td>\n",
              "      <td>1.903676</td>\n",
              "      <td>0.606019</td>\n",
              "      <td>0.037007</td>\n",
              "      <td>1</td>\n",
              "    </tr>\n",
              "    <tr>\n",
              "      <th>2018</th>\n",
              "      <td>0.723003</td>\n",
              "      <td>1.253004</td>\n",
              "      <td>0.567799</td>\n",
              "      <td>0.432201</td>\n",
              "      <td>3.610153</td>\n",
              "      <td>0.871840</td>\n",
              "      <td>0.026977</td>\n",
              "      <td>1</td>\n",
              "    </tr>\n",
              "    <tr>\n",
              "      <th>...</th>\n",
              "      <td>...</td>\n",
              "      <td>...</td>\n",
              "      <td>...</td>\n",
              "      <td>...</td>\n",
              "      <td>...</td>\n",
              "      <td>...</td>\n",
              "      <td>...</td>\n",
              "      <td>...</td>\n",
              "    </tr>\n",
              "    <tr>\n",
              "      <th>2020</th>\n",
              "      <td>5.699902</td>\n",
              "      <td>0.000000</td>\n",
              "      <td>0.010202</td>\n",
              "      <td>0.989798</td>\n",
              "      <td>0.212770</td>\n",
              "      <td>3.593479</td>\n",
              "      <td>-1.171038</td>\n",
              "      <td>0</td>\n",
              "    </tr>\n",
              "    <tr>\n",
              "      <th>2020</th>\n",
              "      <td>0.342392</td>\n",
              "      <td>0.422615</td>\n",
              "      <td>1.000000</td>\n",
              "      <td>0.000000</td>\n",
              "      <td>1.520663</td>\n",
              "      <td>0.646106</td>\n",
              "      <td>0.063746</td>\n",
              "      <td>1</td>\n",
              "    </tr>\n",
              "    <tr>\n",
              "      <th>2020</th>\n",
              "      <td>0.994740</td>\n",
              "      <td>98.907516</td>\n",
              "      <td>0.663385</td>\n",
              "      <td>0.336615</td>\n",
              "      <td>190.109300</td>\n",
              "      <td>1.225062</td>\n",
              "      <td>0.559490</td>\n",
              "      <td>1</td>\n",
              "    </tr>\n",
              "    <tr>\n",
              "      <th>2020</th>\n",
              "      <td>0.762552</td>\n",
              "      <td>3.043322</td>\n",
              "      <td>1.000000</td>\n",
              "      <td>0.000000</td>\n",
              "      <td>4.211455</td>\n",
              "      <td>0.413233</td>\n",
              "      <td>0.060709</td>\n",
              "      <td>1</td>\n",
              "    </tr>\n",
              "    <tr>\n",
              "      <th>2020</th>\n",
              "      <td>0.599440</td>\n",
              "      <td>0.591775</td>\n",
              "      <td>0.423325</td>\n",
              "      <td>0.576675</td>\n",
              "      <td>2.496504</td>\n",
              "      <td>0.771149</td>\n",
              "      <td>-0.889186</td>\n",
              "      <td>1</td>\n",
              "    </tr>\n",
              "  </tbody>\n",
              "</table>\n",
              "<p>4581 rows × 8 columns</p>\n",
              "</div>\n",
              "      <button class=\"colab-df-convert\" onclick=\"convertToInteractive('df-e8d8fa8a-ebce-4358-a24b-95a0d29c59aa')\"\n",
              "              title=\"Convert this dataframe to an interactive table.\"\n",
              "              style=\"display:none;\">\n",
              "        \n",
              "  <svg xmlns=\"http://www.w3.org/2000/svg\" height=\"24px\"viewBox=\"0 0 24 24\"\n",
              "       width=\"24px\">\n",
              "    <path d=\"M0 0h24v24H0V0z\" fill=\"none\"/>\n",
              "    <path d=\"M18.56 5.44l.94 2.06.94-2.06 2.06-.94-2.06-.94-.94-2.06-.94 2.06-2.06.94zm-11 1L8.5 8.5l.94-2.06 2.06-.94-2.06-.94L8.5 2.5l-.94 2.06-2.06.94zm10 10l.94 2.06.94-2.06 2.06-.94-2.06-.94-.94-2.06-.94 2.06-2.06.94z\"/><path d=\"M17.41 7.96l-1.37-1.37c-.4-.4-.92-.59-1.43-.59-.52 0-1.04.2-1.43.59L10.3 9.45l-7.72 7.72c-.78.78-.78 2.05 0 2.83L4 21.41c.39.39.9.59 1.41.59.51 0 1.02-.2 1.41-.59l7.78-7.78 2.81-2.81c.8-.78.8-2.07 0-2.86zM5.41 20L4 18.59l7.72-7.72 1.47 1.35L5.41 20z\"/>\n",
              "  </svg>\n",
              "      </button>\n",
              "      \n",
              "  <style>\n",
              "    .colab-df-container {\n",
              "      display:flex;\n",
              "      flex-wrap:wrap;\n",
              "      gap: 12px;\n",
              "    }\n",
              "\n",
              "    .colab-df-convert {\n",
              "      background-color: #E8F0FE;\n",
              "      border: none;\n",
              "      border-radius: 50%;\n",
              "      cursor: pointer;\n",
              "      display: none;\n",
              "      fill: #1967D2;\n",
              "      height: 32px;\n",
              "      padding: 0 0 0 0;\n",
              "      width: 32px;\n",
              "    }\n",
              "\n",
              "    .colab-df-convert:hover {\n",
              "      background-color: #E2EBFA;\n",
              "      box-shadow: 0px 1px 2px rgba(60, 64, 67, 0.3), 0px 1px 3px 1px rgba(60, 64, 67, 0.15);\n",
              "      fill: #174EA6;\n",
              "    }\n",
              "\n",
              "    [theme=dark] .colab-df-convert {\n",
              "      background-color: #3B4455;\n",
              "      fill: #D2E3FC;\n",
              "    }\n",
              "\n",
              "    [theme=dark] .colab-df-convert:hover {\n",
              "      background-color: #434B5C;\n",
              "      box-shadow: 0px 1px 3px 1px rgba(0, 0, 0, 0.15);\n",
              "      filter: drop-shadow(0px 1px 2px rgba(0, 0, 0, 0.3));\n",
              "      fill: #FFFFFF;\n",
              "    }\n",
              "  </style>\n",
              "\n",
              "      <script>\n",
              "        const buttonEl =\n",
              "          document.querySelector('#df-e8d8fa8a-ebce-4358-a24b-95a0d29c59aa button.colab-df-convert');\n",
              "        buttonEl.style.display =\n",
              "          google.colab.kernel.accessAllowed ? 'block' : 'none';\n",
              "\n",
              "        async function convertToInteractive(key) {\n",
              "          const element = document.querySelector('#df-e8d8fa8a-ebce-4358-a24b-95a0d29c59aa');\n",
              "          const dataTable =\n",
              "            await google.colab.kernel.invokeFunction('convertToInteractive',\n",
              "                                                     [key], {});\n",
              "          if (!dataTable) return;\n",
              "\n",
              "          const docLinkHtml = 'Like what you see? Visit the ' +\n",
              "            '<a target=\"_blank\" href=https://colab.research.google.com/notebooks/data_table.ipynb>data table notebook</a>'\n",
              "            + ' to learn more about interactive tables.';\n",
              "          element.innerHTML = '';\n",
              "          dataTable['output_type'] = 'display_data';\n",
              "          await google.colab.output.renderOutput(dataTable, element);\n",
              "          const docLink = document.createElement('div');\n",
              "          docLink.innerHTML = docLinkHtml;\n",
              "          element.appendChild(docLink);\n",
              "        }\n",
              "      </script>\n",
              "    </div>\n",
              "  </div>\n",
              "  "
            ]
          },
          "metadata": {},
          "execution_count": 158
        }
      ]
    },
    {
      "cell_type": "code",
      "source": [
        "plt.figure(figsize=(10,5))\n",
        "\n",
        "plt.title('endeu_corto vs endeu_largo')\n",
        "sns.scatterplot(x=Corr4['endeu_corto'],y=Corr4['endeu_largo'],hue=Corr4['VALORACION'])\n",
        "plt.xlabel('endeu_corto')\n",
        "plt.ylabel('endeu_largo')\n",
        "\n",
        "plt.show()\n",
        "plt.tight_layout()"
      ],
      "metadata": {
        "colab": {
          "base_uri": "https://localhost:8080/",
          "height": 368
        },
        "id": "-uy-bi3ekgOg",
        "outputId": "2dc04ec9-65f5-4408-d86c-06cb5c8b1049"
      },
      "execution_count": null,
      "outputs": [
        {
          "output_type": "display_data",
          "data": {
            "text/plain": [
              "<Figure size 720x360 with 1 Axes>"
            ],
            "image/png": "[encoded data removed]"
          },
          "metadata": {
            "needs_background": "light"
          }
        },
        {
          "output_type": "display_data",
          "data": {
            "text/plain": [
              "<Figure size 432x288 with 0 Axes>"
            ]
          },
          "metadata": {}
        }
      ]
    },
    {
      "cell_type": "code",
      "source": [
        "import seaborn as seabornInstance \n",
        "plt.figure(figsize=(10,10))\n",
        "plt.tight_layout()\n",
        "seabornInstance.distplot(Corr4[(Corr4['ROE']>=-0.460738) & (Corr4['ROE']<=1)]['ROE'])"
      ],
      "metadata": {
        "colab": {
          "base_uri": "https://localhost:8080/",
          "height": 678
        },
        "id": "FquHap3KmXW-",
        "outputId": "5144a31a-3e19-46bd-dae9-8529e4e100f4"
      },
      "execution_count": null,
      "outputs": [
        {
          "output_type": "stream",
          "name": "stderr",
          "text": [
            "/usr/local/lib/python3.7/dist-packages/seaborn/distributions.py:2619: FutureWarning: `distplot` is a deprecated function and will be removed in a future version. Please adapt your code to use either `displot` (a figure-level function with similar flexibility) or `histplot` (an axes-level function for histograms).\n",
            "  warnings.warn(msg, FutureWarning)\n"
          ]
        },
        {
          "output_type": "execute_result",
          "data": {
            "text/plain": [
              "<matplotlib.axes._subplots.AxesSubplot at 0x7f1fd792df50>"
            ]
          },
          "metadata": {},
          "execution_count": 166
        },
        {
          "output_type": "display_data",
          "data": {
            "text/plain": [
              "<Figure size 720x720 with 1 Axes>"
            ],
            "image/png": "[encoded data removed]"
          },
          "metadata": {
            "needs_background": "light"
          }
        }
      ]
    },
    {
      "cell_type": "code",
      "source": [
        "plt.figure(figsize=(10,10))\n",
        "plt.tight_layout()\n",
        "seabornInstance.distplot(Corr4['endeu_largo'])"
      ],
      "metadata": {
        "colab": {
          "base_uri": "https://localhost:8080/",
          "height": 678
        },
        "id": "zT0KQAr8nAGM",
        "outputId": "6c45580c-5d2f-4956-868f-25ff9d1b1381"
      },
      "execution_count": null,
      "outputs": [
        {
          "output_type": "stream",
          "name": "stderr",
          "text": [
            "/usr/local/lib/python3.7/dist-packages/seaborn/distributions.py:2619: FutureWarning: `distplot` is a deprecated function and will be removed in a future version. Please adapt your code to use either `displot` (a figure-level function with similar flexibility) or `histplot` (an axes-level function for histograms).\n",
            "  warnings.warn(msg, FutureWarning)\n"
          ]
        },
        {
          "output_type": "execute_result",
          "data": {
            "text/plain": [
              "<matplotlib.axes._subplots.AxesSubplot at 0x7f1fd79d6990>"
            ]
          },
          "metadata": {},
          "execution_count": 167
        },
        {
          "output_type": "display_data",
          "data": {
            "text/plain": [
              "<Figure size 720x720 with 1 Axes>"
            ],
            "image/png": "[encoded data removed]"
          },
          "metadata": {
            "needs_background": "light"
          }
        }
      ]
    },
    {
      "cell_type": "code",
      "source": [
        "plt.figure(figsize=(10,10))\n",
        "plt.tight_layout()\n",
        "seabornInstance.distplot(Corr4['endeu_corto'])"
      ],
      "metadata": {
        "colab": {
          "base_uri": "https://localhost:8080/",
          "height": 678
        },
        "id": "FEiyMqsZnxVT",
        "outputId": "b4c82574-87a3-481e-d497-26b9dbce1350"
      },
      "execution_count": null,
      "outputs": [
        {
          "output_type": "stream",
          "name": "stderr",
          "text": [
            "/usr/local/lib/python3.7/dist-packages/seaborn/distributions.py:2619: FutureWarning: `distplot` is a deprecated function and will be removed in a future version. Please adapt your code to use either `displot` (a figure-level function with similar flexibility) or `histplot` (an axes-level function for histograms).\n",
            "  warnings.warn(msg, FutureWarning)\n"
          ]
        },
        {
          "output_type": "execute_result",
          "data": {
            "text/plain": [
              "<matplotlib.axes._subplots.AxesSubplot at 0x7f1fd7529810>"
            ]
          },
          "metadata": {},
          "execution_count": 178
        },
        {
          "output_type": "display_data",
          "data": {
            "text/plain": [
              "<Figure size 720x720 with 1 Axes>"
            ],
            "image/png": "[encoded data removed]"
          },
          "metadata": {
            "needs_background": "light"
          }
        }
      ]
    },
    {
      "cell_type": "code",
      "source": [
        "#[[\"ENDEUDAMIENTODELACTIVO\",\"ENDEUDAMIENTOPATRIMONIAL\",\"ENDEUDAMIENTOACORTOPLAZO\",\"ENDEUDAMIENTOALARGOPLAZO\",\"APALANCAMIENTO\",\"ROTACIÓNDEVENTAS\",\"ROE\"]]\n",
        "X = Corr4['endeu_corto'].values.reshape(-1,1)\n",
        "y = Corr4['ROE'].values.reshape(-1,1)"
      ],
      "metadata": {
        "id": "HzuheKLOn6RX"
      },
      "execution_count": null,
      "outputs": []
    },
    {
      "cell_type": "code",
      "source": [
        "X_train, X_test, y_train, y_test = train_test_split(X, y, test_size=0.2, random_state=0)"
      ],
      "metadata": {
        "id": "sxrfhcGe_tZG"
      },
      "execution_count": null,
      "outputs": []
    },
    {
      "cell_type": "code",
      "source": [
        "regressor = LinearRegression() \n",
        "regressor.fit(X_train, y_train) #Entrena el algoritmo "
      ],
      "metadata": {
        "colab": {
          "base_uri": "https://localhost:8080/"
        },
        "id": "HgJR0TWV_uKm",
        "outputId": "6870cf2b-852f-41f0-e22b-7c5676d4e2f5"
      },
      "execution_count": null,
      "outputs": [
        {
          "output_type": "execute_result",
          "data": {
            "text/plain": [
              "LinearRegression()"
            ]
          },
          "metadata": {},
          "execution_count": 170
        }
      ]
    },
    {
      "cell_type": "code",
      "source": [
        "#Para obtener el intercepto:\n",
        "print('intercepto: ',regressor.intercept_)\n",
        "#Para obtener la pendiente\n",
        "print('Pendiente ',regressor.coef_)"
      ],
      "metadata": {
        "colab": {
          "base_uri": "https://localhost:8080/"
        },
        "id": "NP30fFQ-_3KY",
        "outputId": "dce02443-6724-4de2-d05e-65097c2b16bb"
      },
      "execution_count": null,
      "outputs": [
        {
          "output_type": "stream",
          "name": "stdout",
          "text": [
            "intercepto:  [-0.84021944]\n",
            "Pendiente  [[0.64746336]]\n"
          ]
        }
      ]
    },
    {
      "cell_type": "code",
      "source": [
        "y_pred = regressor.predict(X_test)"
      ],
      "metadata": {
        "id": "YOwAh5PN_5jb"
      },
      "execution_count": null,
      "outputs": []
    },
    {
      "cell_type": "code",
      "source": [
        "df = pd.DataFrame({'Actual': y_test.flatten(), 'Predicted': y_pred.flatten()})\n",
        "df"
      ],
      "metadata": {
        "colab": {
          "base_uri": "https://localhost:8080/",
          "height": 424
        },
        "id": "IaB9AntK_7sE",
        "outputId": "c7157a06-0093-4a38-9f15-458802f146c5"
      },
      "execution_count": null,
      "outputs": [
        {
          "output_type": "execute_result",
          "data": {
            "text/plain": [
              "       Actual  Predicted\n",
              "0    0.001472  -0.192756\n",
              "1   -0.020541  -0.196164\n",
              "2    0.122339  -0.290970\n",
              "3   -0.012295  -0.414875\n",
              "4    0.079645  -0.393057\n",
              "..        ...        ...\n",
              "912  0.670814  -0.254586\n",
              "913  0.085192  -0.537708\n",
              "914  0.284360  -0.226870\n",
              "915  0.070895  -0.315946\n",
              "916  0.526659  -0.677360\n",
              "\n",
              "[917 rows x 2 columns]"
            ],
            "text/html": [
              "\n",
              "  <div id=\"df-3bc39b5d-4b92-42f5-9166-9e27e5995460\">\n",
              "    <div class=\"colab-df-container\">\n",
              "      <div>\n",
              "<style scoped>\n",
              "    .dataframe tbody tr th:only-of-type {\n",
              "        vertical-align: middle;\n",
              "    }\n",
              "\n",
              "    .dataframe tbody tr th {\n",
              "        vertical-align: top;\n",
              "    }\n",
              "\n",
              "    .dataframe thead th {\n",
              "        text-align: right;\n",
              "    }\n",
              "</style>\n",
              "<table border=\"1\" class=\"dataframe\">\n",
              "  <thead>\n",
              "    <tr style=\"text-align: right;\">\n",
              "      <th></th>\n",
              "      <th>Actual</th>\n",
              "      <th>Predicted</th>\n",
              "    </tr>\n",
              "  </thead>\n",
              "  <tbody>\n",
              "    <tr>\n",
              "      <th>0</th>\n",
              "      <td>0.001472</td>\n",
              "      <td>-0.192756</td>\n",
              "    </tr>\n",
              "    <tr>\n",
              "      <th>1</th>\n",
              "      <td>-0.020541</td>\n",
              "      <td>-0.196164</td>\n",
              "    </tr>\n",
              "    <tr>\n",
              "      <th>2</th>\n",
              "      <td>0.122339</td>\n",
              "      <td>-0.290970</td>\n",
              "    </tr>\n",
              "    <tr>\n",
              "      <th>3</th>\n",
              "      <td>-0.012295</td>\n",
              "      <td>-0.414875</td>\n",
              "    </tr>\n",
              "    <tr>\n",
              "      <th>4</th>\n",
              "      <td>0.079645</td>\n",
              "      <td>-0.393057</td>\n",
              "    </tr>\n",
              "    <tr>\n",
              "      <th>...</th>\n",
              "      <td>...</td>\n",
              "      <td>...</td>\n",
              "    </tr>\n",
              "    <tr>\n",
              "      <th>912</th>\n",
              "      <td>0.670814</td>\n",
              "      <td>-0.254586</td>\n",
              "    </tr>\n",
              "    <tr>\n",
              "      <th>913</th>\n",
              "      <td>0.085192</td>\n",
              "      <td>-0.537708</td>\n",
              "    </tr>\n",
              "    <tr>\n",
              "      <th>914</th>\n",
              "      <td>0.284360</td>\n",
              "      <td>-0.226870</td>\n",
              "    </tr>\n",
              "    <tr>\n",
              "      <th>915</th>\n",
              "      <td>0.070895</td>\n",
              "      <td>-0.315946</td>\n",
              "    </tr>\n",
              "    <tr>\n",
              "      <th>916</th>\n",
              "      <td>0.526659</td>\n",
              "      <td>-0.677360</td>\n",
              "    </tr>\n",
              "  </tbody>\n",
              "</table>\n",
              "<p>917 rows × 2 columns</p>\n",
              "</div>\n",
              "      <button class=\"colab-df-convert\" onclick=\"convertToInteractive('df-3bc39b5d-4b92-42f5-9166-9e27e5995460')\"\n",
              "              title=\"Convert this dataframe to an interactive table.\"\n",
              "              style=\"display:none;\">\n",
              "        \n",
              "  <svg xmlns=\"http://www.w3.org/2000/svg\" height=\"24px\"viewBox=\"0 0 24 24\"\n",
              "       width=\"24px\">\n",
              "    <path d=\"M0 0h24v24H0V0z\" fill=\"none\"/>\n",
              "    <path d=\"M18.56 5.44l.94 2.06.94-2.06 2.06-.94-2.06-.94-.94-2.06-.94 2.06-2.06.94zm-11 1L8.5 8.5l.94-2.06 2.06-.94-2.06-.94L8.5 2.5l-.94 2.06-2.06.94zm10 10l.94 2.06.94-2.06 2.06-.94-2.06-.94-.94-2.06-.94 2.06-2.06.94z\"/><path d=\"M17.41 7.96l-1.37-1.37c-.4-.4-.92-.59-1.43-.59-.52 0-1.04.2-1.43.59L10.3 9.45l-7.72 7.72c-.78.78-.78 2.05 0 2.83L4 21.41c.39.39.9.59 1.41.59.51 0 1.02-.2 1.41-.59l7.78-7.78 2.81-2.81c.8-.78.8-2.07 0-2.86zM5.41 20L4 18.59l7.72-7.72 1.47 1.35L5.41 20z\"/>\n",
              "  </svg>\n",
              "      </button>\n",
              "      \n",
              "  <style>\n",
              "    .colab-df-container {\n",
              "      display:flex;\n",
              "      flex-wrap:wrap;\n",
              "      gap: 12px;\n",
              "    }\n",
              "\n",
              "    .colab-df-convert {\n",
              "      background-color: #E8F0FE;\n",
              "      border: none;\n",
              "      border-radius: 50%;\n",
              "      cursor: pointer;\n",
              "      display: none;\n",
              "      fill: #1967D2;\n",
              "      height: 32px;\n",
              "      padding: 0 0 0 0;\n",
              "      width: 32px;\n",
              "    }\n",
              "\n",
              "    .colab-df-convert:hover {\n",
              "      background-color: #E2EBFA;\n",
              "      box-shadow: 0px 1px 2px rgba(60, 64, 67, 0.3), 0px 1px 3px 1px rgba(60, 64, 67, 0.15);\n",
              "      fill: #174EA6;\n",
              "    }\n",
              "\n",
              "    [theme=dark] .colab-df-convert {\n",
              "      background-color: #3B4455;\n",
              "      fill: #D2E3FC;\n",
              "    }\n",
              "\n",
              "    [theme=dark] .colab-df-convert:hover {\n",
              "      background-color: #434B5C;\n",
              "      box-shadow: 0px 1px 3px 1px rgba(0, 0, 0, 0.15);\n",
              "      filter: drop-shadow(0px 1px 2px rgba(0, 0, 0, 0.3));\n",
              "      fill: #FFFFFF;\n",
              "    }\n",
              "  </style>\n",
              "\n",
              "      <script>\n",
              "        const buttonEl =\n",
              "          document.querySelector('#df-3bc39b5d-4b92-42f5-9166-9e27e5995460 button.colab-df-convert');\n",
              "        buttonEl.style.display =\n",
              "          google.colab.kernel.accessAllowed ? 'block' : 'none';\n",
              "\n",
              "        async function convertToInteractive(key) {\n",
              "          const element = document.querySelector('#df-3bc39b5d-4b92-42f5-9166-9e27e5995460');\n",
              "          const dataTable =\n",
              "            await google.colab.kernel.invokeFunction('convertToInteractive',\n",
              "                                                     [key], {});\n",
              "          if (!dataTable) return;\n",
              "\n",
              "          const docLinkHtml = 'Like what you see? Visit the ' +\n",
              "            '<a target=\"_blank\" href=https://colab.research.google.com/notebooks/data_table.ipynb>data table notebook</a>'\n",
              "            + ' to learn more about interactive tables.';\n",
              "          element.innerHTML = '';\n",
              "          dataTable['output_type'] = 'display_data';\n",
              "          await google.colab.output.renderOutput(dataTable, element);\n",
              "          const docLink = document.createElement('div');\n",
              "          docLink.innerHTML = docLinkHtml;\n",
              "          element.appendChild(docLink);\n",
              "        }\n",
              "      </script>\n",
              "    </div>\n",
              "  </div>\n",
              "  "
            ]
          },
          "metadata": {},
          "execution_count": 173
        }
      ]
    },
    {
      "cell_type": "code",
      "source": [
        "df1 = df.head(25)\n",
        "df1.plot(kind='bar',figsize=(16,10))\n",
        "plt.grid(which='major', linestyle='-', linewidth='0.5', color='green')\n",
        "plt.grid(which='minor', linestyle=':', linewidth='0.5', color='black')\n",
        "plt.show()"
      ],
      "metadata": {
        "colab": {
          "base_uri": "https://localhost:8080/",
          "height": 594
        },
        "id": "hFS6FxBwAEqV",
        "outputId": "894ff575-75b1-4466-d423-95fb2473787a"
      },
      "execution_count": null,
      "outputs": [
        {
          "output_type": "display_data",
          "data": {
            "text/plain": [
              "<Figure size 1152x720 with 1 Axes>"
            ],
            "image/png": "[encoded data removed]"
          },
          "metadata": {
            "needs_background": "light"
          }
        }
      ]
    },
    {
      "cell_type": "code",
      "source": [
        "plt.scatter(X_test, y_test,  color='gray')\n",
        "plt.plot(X_test, y_pred, color='red', linewidth=2)\n",
        "plt.show()"
      ],
      "metadata": {
        "colab": {
          "base_uri": "https://localhost:8080/",
          "height": 265
        },
        "id": "5VWShrA8AGn1",
        "outputId": "8e281cf1-188a-4244-a228-25edf5bc8860"
      },
      "execution_count": null,
      "outputs": [
        {
          "output_type": "display_data",
          "data": {
            "text/plain": [
              "<Figure size 432x288 with 1 Axes>"
            ],
            "image/png": "[encoded data removed]"
          },
          "metadata": {
            "needs_background": "light"
          }
        }
      ]
    },
    {
      "cell_type": "code",
      "source": [
        "from sklearn import metrics \n",
        "\n",
        "print('Error Absoluto Medio:',metrics.mean_absolute_error(y_test, y_pred)) \n",
        "print('Error Cuadratico Medio:', metrics.mean_squared_error(y_test, y_pred)) \n",
        "print('Raíz del error cuadrático medio:', np.sqrt(metrics.mean_squared_error(y_test, y_pred)))\n"
      ],
      "metadata": {
        "colab": {
          "base_uri": "https://localhost:8080/"
        },
        "id": "lvwZIFpkAJ9m",
        "outputId": "285721a8-03b6-49ce-a224-54fa48645d97"
      },
      "execution_count": null,
      "outputs": [
        {
          "output_type": "stream",
          "name": "stdout",
          "text": [
            "Error Absoluto Medio: 1.108534899432841\n",
            "Error Cuadratico Medio: 52.41958422793307\n",
            "Raíz del error cuadrático medio: 7.240137031019032\n"
          ]
        }
      ]
    },
    {
      "cell_type": "markdown",
      "source": [
        "con multiples varaibles\n"
      ],
      "metadata": {
        "id": "WKM-BYkKOQpj"
      }
    },
    {
      "cell_type": "code",
      "source": [
        "\n",
        "#Vamos a intentar mejorar el Modelo, con una dimensión más: \n",
        "# Para poder graficar en 3D, haremos una variable nueva que será la suma de los enlaces, comentarios e imágenes\n",
        "#[[\"ENDEUDAMIENTODELACTIVO\",\"ENDEUDAMIENTOPATRIMONIAL\",\"ENDEUDAMIENTOACORTOPLAZO\",\"ENDEUDAMIENTOALARGOPLAZO\",\"APALANCAMIENTO\",\"ROTACIÓNDEVENTAS\",\"ROE\"]]\n",
        "\n",
        "suma = ( Corr4['endeu_activo']+Corr4['endeu_patricorr']+Corr4['endeu_corto'] + Corr4['endeu_largo']+Corr4['rot_ventas'].fillna(0)+ Corr4['apal'])\n",
        " \n",
        "dataX2 =  pd.DataFrame()\n",
        "dataX2[\"ROE\"] = Corr4[\"ROE\"]\n",
        "dataX2[\"suma\"] = suma\n",
        "XY_train = np.array(dataX2)\n",
        "z_train = Corr4['VALORACION'].values"
      ],
      "metadata": {
        "id": "lLkXziKZOSzr"
      },
      "execution_count": null,
      "outputs": []
    },
    {
      "cell_type": "code",
      "source": [
        "dataX2"
      ],
      "metadata": {
        "id": "JAjAf02fSgHT",
        "colab": {
          "base_uri": "https://localhost:8080/",
          "height": 455
        },
        "outputId": "a53d561d-abdb-4ca4-ed59-27dafcfe6a34"
      },
      "execution_count": null,
      "outputs": [
        {
          "output_type": "execute_result",
          "data": {
            "text/plain": [
              "           ROE        suma\n",
              "AÑO                       \n",
              "2018  0.203887    5.246303\n",
              "2018  0.092535    5.221271\n",
              "2018  0.045144    2.643602\n",
              "2018  0.037007    4.243947\n",
              "2018  0.026977    7.458000\n",
              "...        ...         ...\n",
              "2020 -1.171038   10.506152\n",
              "2020  0.063746    3.931776\n",
              "2020  0.559490  292.236618\n",
              "2020  0.060709    9.430563\n",
              "2020 -0.889186    5.458868\n",
              "\n",
              "[4581 rows x 2 columns]"
            ],
            "text/html": [
              "\n",
              "  <div id=\"df-ddb96f5b-518a-4040-b892-2b7755414d10\">\n",
              "    <div class=\"colab-df-container\">\n",
              "      <div>\n",
              "<style scoped>\n",
              "    .dataframe tbody tr th:only-of-type {\n",
              "        vertical-align: middle;\n",
              "    }\n",
              "\n",
              "    .dataframe tbody tr th {\n",
              "        vertical-align: top;\n",
              "    }\n",
              "\n",
              "    .dataframe thead th {\n",
              "        text-align: right;\n",
              "    }\n",
              "</style>\n",
              "<table border=\"1\" class=\"dataframe\">\n",
              "  <thead>\n",
              "    <tr style=\"text-align: right;\">\n",
              "      <th></th>\n",
              "      <th>ROE</th>\n",
              "      <th>suma</th>\n",
              "    </tr>\n",
              "    <tr>\n",
              "      <th>AÑO</th>\n",
              "      <th></th>\n",
              "      <th></th>\n",
              "    </tr>\n",
              "  </thead>\n",
              "  <tbody>\n",
              "    <tr>\n",
              "      <th>2018</th>\n",
              "      <td>0.203887</td>\n",
              "      <td>5.246303</td>\n",
              "    </tr>\n",
              "    <tr>\n",
              "      <th>2018</th>\n",
              "      <td>0.092535</td>\n",
              "      <td>5.221271</td>\n",
              "    </tr>\n",
              "    <tr>\n",
              "      <th>2018</th>\n",
              "      <td>0.045144</td>\n",
              "      <td>2.643602</td>\n",
              "    </tr>\n",
              "    <tr>\n",
              "      <th>2018</th>\n",
              "      <td>0.037007</td>\n",
              "      <td>4.243947</td>\n",
              "    </tr>\n",
              "    <tr>\n",
              "      <th>2018</th>\n",
              "      <td>0.026977</td>\n",
              "      <td>7.458000</td>\n",
              "    </tr>\n",
              "    <tr>\n",
              "      <th>...</th>\n",
              "      <td>...</td>\n",
              "      <td>...</td>\n",
              "    </tr>\n",
              "    <tr>\n",
              "      <th>2020</th>\n",
              "      <td>-1.171038</td>\n",
              "      <td>10.506152</td>\n",
              "    </tr>\n",
              "    <tr>\n",
              "      <th>2020</th>\n",
              "      <td>0.063746</td>\n",
              "      <td>3.931776</td>\n",
              "    </tr>\n",
              "    <tr>\n",
              "      <th>2020</th>\n",
              "      <td>0.559490</td>\n",
              "      <td>292.236618</td>\n",
              "    </tr>\n",
              "    <tr>\n",
              "      <th>2020</th>\n",
              "      <td>0.060709</td>\n",
              "      <td>9.430563</td>\n",
              "    </tr>\n",
              "    <tr>\n",
              "      <th>2020</th>\n",
              "      <td>-0.889186</td>\n",
              "      <td>5.458868</td>\n",
              "    </tr>\n",
              "  </tbody>\n",
              "</table>\n",
              "<p>4581 rows × 2 columns</p>\n",
              "</div>\n",
              "      <button class=\"colab-df-convert\" onclick=\"convertToInteractive('df-ddb96f5b-518a-4040-b892-2b7755414d10')\"\n",
              "              title=\"Convert this dataframe to an interactive table.\"\n",
              "              style=\"display:none;\">\n",
              "        \n",
              "  <svg xmlns=\"http://www.w3.org/2000/svg\" height=\"24px\"viewBox=\"0 0 24 24\"\n",
              "       width=\"24px\">\n",
              "    <path d=\"M0 0h24v24H0V0z\" fill=\"none\"/>\n",
              "    <path d=\"M18.56 5.44l.94 2.06.94-2.06 2.06-.94-2.06-.94-.94-2.06-.94 2.06-2.06.94zm-11 1L8.5 8.5l.94-2.06 2.06-.94-2.06-.94L8.5 2.5l-.94 2.06-2.06.94zm10 10l.94 2.06.94-2.06 2.06-.94-2.06-.94-.94-2.06-.94 2.06-2.06.94z\"/><path d=\"M17.41 7.96l-1.37-1.37c-.4-.4-.92-.59-1.43-.59-.52 0-1.04.2-1.43.59L10.3 9.45l-7.72 7.72c-.78.78-.78 2.05 0 2.83L4 21.41c.39.39.9.59 1.41.59.51 0 1.02-.2 1.41-.59l7.78-7.78 2.81-2.81c.8-.78.8-2.07 0-2.86zM5.41 20L4 18.59l7.72-7.72 1.47 1.35L5.41 20z\"/>\n",
              "  </svg>\n",
              "      </button>\n",
              "      \n",
              "  <style>\n",
              "    .colab-df-container {\n",
              "      display:flex;\n",
              "      flex-wrap:wrap;\n",
              "      gap: 12px;\n",
              "    }\n",
              "\n",
              "    .colab-df-convert {\n",
              "      background-color: #E8F0FE;\n",
              "      border: none;\n",
              "      border-radius: 50%;\n",
              "      cursor: pointer;\n",
              "      display: none;\n",
              "      fill: #1967D2;\n",
              "      height: 32px;\n",
              "      padding: 0 0 0 0;\n",
              "      width: 32px;\n",
              "    }\n",
              "\n",
              "    .colab-df-convert:hover {\n",
              "      background-color: #E2EBFA;\n",
              "      box-shadow: 0px 1px 2px rgba(60, 64, 67, 0.3), 0px 1px 3px 1px rgba(60, 64, 67, 0.15);\n",
              "      fill: #174EA6;\n",
              "    }\n",
              "\n",
              "    [theme=dark] .colab-df-convert {\n",
              "      background-color: #3B4455;\n",
              "      fill: #D2E3FC;\n",
              "    }\n",
              "\n",
              "    [theme=dark] .colab-df-convert:hover {\n",
              "      background-color: #434B5C;\n",
              "      box-shadow: 0px 1px 3px 1px rgba(0, 0, 0, 0.15);\n",
              "      filter: drop-shadow(0px 1px 2px rgba(0, 0, 0, 0.3));\n",
              "      fill: #FFFFFF;\n",
              "    }\n",
              "  </style>\n",
              "\n",
              "      <script>\n",
              "        const buttonEl =\n",
              "          document.querySelector('#df-ddb96f5b-518a-4040-b892-2b7755414d10 button.colab-df-convert');\n",
              "        buttonEl.style.display =\n",
              "          google.colab.kernel.accessAllowed ? 'block' : 'none';\n",
              "\n",
              "        async function convertToInteractive(key) {\n",
              "          const element = document.querySelector('#df-ddb96f5b-518a-4040-b892-2b7755414d10');\n",
              "          const dataTable =\n",
              "            await google.colab.kernel.invokeFunction('convertToInteractive',\n",
              "                                                     [key], {});\n",
              "          if (!dataTable) return;\n",
              "\n",
              "          const docLinkHtml = 'Like what you see? Visit the ' +\n",
              "            '<a target=\"_blank\" href=https://colab.research.google.com/notebooks/data_table.ipynb>data table notebook</a>'\n",
              "            + ' to learn more about interactive tables.';\n",
              "          element.innerHTML = '';\n",
              "          dataTable['output_type'] = 'display_data';\n",
              "          await google.colab.output.renderOutput(dataTable, element);\n",
              "          const docLink = document.createElement('div');\n",
              "          docLink.innerHTML = docLinkHtml;\n",
              "          element.appendChild(docLink);\n",
              "        }\n",
              "      </script>\n",
              "    </div>\n",
              "  </div>\n",
              "  "
            ]
          },
          "metadata": {},
          "execution_count": 182
        }
      ]
    },
    {
      "cell_type": "code",
      "source": [
        "\n",
        "\n",
        "regr2 = linear_model.LinearRegression()\n",
        " \n",
        "# Entrenamos el modelo, esta vez, con 2 dimensiones\n",
        "# obtendremos 2 coeficientes, para graficar un plano\n",
        "regr2.fit(XY_train, z_train)\n",
        " \n",
        "# Hacemos la predicción con la que tendremos puntos sobre el plano hallado\n",
        "z_pred = regr2.predict(XY_train)\n",
        " \n",
        "# Los coeficientes\n",
        "print('Coefficients: \\n', regr2.coef_)\n",
        "# Error cuadrático medio\n",
        "print(\"Mean squared error: %.2f\" % mean_squared_error(z_train, z_pred))\n",
        "# Evaluamos el puntaje de varianza (siendo 1.0 el mejor posible)\n",
        "print('Variance score: %.2f' % r2_score(z_train, z_pred))"
      ],
      "metadata": {
        "colab": {
          "base_uri": "https://localhost:8080/"
        },
        "id": "mIig7C0JQxAe",
        "outputId": "7b9e9e63-a343-4fdd-ad73-b541032ade8d"
      },
      "execution_count": null,
      "outputs": [
        {
          "output_type": "stream",
          "name": "stdout",
          "text": [
            "Coefficients: \n",
            " [2.19918722e-04 2.88507779e-06]\n",
            "Mean squared error: 0.01\n",
            "Variance score: 0.00\n"
          ]
        }
      ]
    },
    {
      "cell_type": "markdown",
      "source": [
        "#El perceptrón multicapa o MLP (Multi-Layer Perceptron)"
      ],
      "metadata": {
        "id": "6p7XfF56S1uE"
      }
    },
    {
      "cell_type": "code",
      "source": [
        "dataset = transformacion(Corr3)\n",
        "dataset_size = len(Corr3)\n",
        "batch_size=32\n",
        "test_size = int(0.8 * dataset_size)\n",
        "train_size = dataset_size - test_size\n",
        "\n",
        "train_dataset, test_dataset = torch.utils.data.random_split(dataset,\n",
        "                                               [train_size, test_size])\n",
        "\n",
        "train_loader = DataLoader(\n",
        "        train_dataset.dataset,\n",
        "        batch_size=batch_size,\n",
        "        shuffle=True)\n",
        "test_loader = DataLoader(\n",
        "        test_dataset.dataset,\n",
        "        batch_size=batch_size,\n",
        "        shuffle=True)"
      ],
      "metadata": {
        "id": "EtyuJRo3TY3L"
      },
      "execution_count": null,
      "outputs": []
    },
    {
      "cell_type": "code",
      "source": [
        "class MLP(nn.Module):\n",
        "  def __init__(self):\n",
        "    super().__init__()\n",
        "    self.layers = nn.Sequential(\n",
        "        nn.Linear(7, 64),\n",
        "        nn.ReLU(),\n",
        "        nn.Linear(64, 32),\n",
        "        nn.ReLU(),\n",
        "        nn.Linear(32, 5)\n",
        "        )\n",
        "  def forward(self, x):\n",
        "     return self.layers(x)"
      ],
      "metadata": {
        "id": "jCIomo-pUnxJ"
      },
      "execution_count": null,
      "outputs": []
    },
    {
      "cell_type": "code",
      "source": [
        "mlp = MLP()\n",
        "# Define the loss function and optimizer\n",
        "loss_function = nn.L1Loss()\n",
        "optimizer = torch.optim.Adam(mlp.parameters(), lr=1e-4)"
      ],
      "metadata": {
        "id": "-UGLKniKUyI_"
      },
      "execution_count": null,
      "outputs": []
    },
    {
      "cell_type": "code",
      "source": [
        "def mse_loss(y_hat,y_real):\n",
        "  dif= y_hat - y_real\n",
        "  return torch.sum(dif*dif)/dif.numel()"
      ],
      "metadata": {
        "id": "SpoiZgIWUzJM"
      },
      "execution_count": null,
      "outputs": []
    },
    {
      "cell_type": "code",
      "source": [
        "# Run the training loop\n",
        "for epoch in range(0, 20): # 5 epochs at maximum\n",
        "    \n",
        "    # Print epoch\n",
        "    print(f'Starting epoch {epoch+1}')\n",
        "    \n",
        "    # Set current loss value\n",
        "    current_loss = 0.0\n",
        "    \n",
        "    # Iterate over the DataLoader for training data\n",
        "    mlp.train()\n",
        "    for i, data in enumerate(train_loader, 0):\n",
        "      \n",
        "      # Get and prepare inputs\n",
        "      inputs, targets = data\n",
        "      inputs, targets = inputs.float(), targets.float()\n",
        "      targets = targets.reshape((targets.shape[0], 1))\n",
        "      \n",
        "      # Zero the gradients\n",
        "      optimizer.zero_grad()\n",
        "      \n",
        "      # Perform forward pass\n",
        "      outputs = mlp(inputs)\n",
        "      \n",
        "      # Compute loss\n",
        "      loss = loss_function(outputs, targets)\n",
        "      \n",
        "      # Perform backward pass\n",
        "      loss.backward()\n",
        "      \n",
        "      # Perform optimization\n",
        "      optimizer.step()\n",
        "      \n",
        "      # Print statistics\n",
        "      current_loss += loss.item()\n",
        "      if i % 100 == 0:\n",
        "        #  print('Loss after mini-batch %5d: %.3f' %\n",
        "         #       (i + 1, current_loss / 100))\n",
        "          current_loss = 0.0\n",
        "#------------------------------------------------------------------\n",
        "    mlp.eval() \n",
        "    with torch.no_grad():\n",
        "      \n",
        "      #y_all_real=[]\n",
        "      #y_all_hat=[]\n",
        "      current_error=0.0\n",
        "      acum=0\n",
        "      for i, data in enumerate(test_loader, 0):\n",
        "        inputs, targets = data\n",
        "        inputs, targets = inputs.float(), targets.float()\n",
        "        targets = targets.reshape((targets.shape[0], 1))\n",
        "\n",
        "        #xtest=xtest.float()\n",
        "        #ytest=ytest.float()\n",
        "        test_y = mlp(inputs)\n",
        "        error=mse_loss(test_y,targets)\n",
        "        current_error+=error\n",
        "        acum+=1\n",
        "  \n",
        "      print('mse error after epoch %5d: %.3f' %\n",
        "          (epoch, current_error / acum))\n",
        "            \n",
        "            \n",
        "          \n",
        "          #print('mse: %.3f' %error)\n",
        "\n",
        "          #y_all_real.append(ytest)#= np.array(ytest)\n",
        "         # y_all_hat.append(test_y)\n",
        "        \n",
        "        #y_all_hat.plot.hist(bins=10)\n",
        "\n",
        "        \n",
        "  # Process is complete.\n",
        "print('Training process has finished.')\n"
      ],
      "metadata": {
        "colab": {
          "base_uri": "https://localhost:8080/"
        },
        "id": "Q9qfJER2U1Hd",
        "outputId": "be757073-355a-4b0c-a232-2f204320cc4f"
      },
      "execution_count": null,
      "outputs": [
        {
          "output_type": "stream",
          "name": "stdout",
          "text": [
            "Starting epoch 1\n"
          ]
        },
        {
          "output_type": "stream",
          "name": "stderr",
          "text": [
            "/usr/local/lib/python3.7/dist-packages/torch/nn/modules/loss.py:96: UserWarning: Using a target size (torch.Size([32, 1])) that is different to the input size (torch.Size([32, 5])). This will likely lead to incorrect results due to broadcasting. Please ensure they have the same size.\n",
            "  return F.l1_loss(input, target, reduction=self.reduction)\n",
            "/usr/local/lib/python3.7/dist-packages/torch/nn/modules/loss.py:96: UserWarning: Using a target size (torch.Size([5, 1])) that is different to the input size (torch.Size([5, 5])). This will likely lead to incorrect results due to broadcasting. Please ensure they have the same size.\n",
            "  return F.l1_loss(input, target, reduction=self.reduction)\n"
          ]
        },
        {
          "output_type": "stream",
          "name": "stdout",
          "text": [
            "mse error after epoch     0: 0.664\n",
            "Starting epoch 2\n",
            "mse error after epoch     1: 0.296\n",
            "Starting epoch 3\n",
            "mse error after epoch     2: 0.214\n",
            "Starting epoch 4\n",
            "mse error after epoch     3: 0.139\n",
            "Starting epoch 5\n",
            "mse error after epoch     4: 0.086\n",
            "Starting epoch 6\n",
            "mse error after epoch     5: 0.053\n",
            "Starting epoch 7\n",
            "mse error after epoch     6: 0.040\n",
            "Starting epoch 8\n",
            "mse error after epoch     7: 0.031\n",
            "Starting epoch 9\n",
            "mse error after epoch     8: 0.024\n",
            "Starting epoch 10\n",
            "mse error after epoch     9: 0.020\n",
            "Starting epoch 11\n",
            "mse error after epoch    10: 0.017\n",
            "Starting epoch 12\n",
            "mse error after epoch    11: 0.015\n",
            "Starting epoch 13\n",
            "mse error after epoch    12: 0.013\n",
            "Starting epoch 14\n",
            "mse error after epoch    13: 0.012\n",
            "Starting epoch 15\n",
            "mse error after epoch    14: 0.011\n",
            "Starting epoch 16\n",
            "mse error after epoch    15: 0.011\n",
            "Starting epoch 17\n",
            "mse error after epoch    16: 0.010\n",
            "Starting epoch 18\n",
            "mse error after epoch    17: 0.010\n",
            "Starting epoch 19\n",
            "mse error after epoch    18: 0.010\n",
            "Starting epoch 20\n",
            "mse error after epoch    19: 0.010\n",
            "Training process has finished.\n"
          ]
        }
      ]
    }
  ]
}